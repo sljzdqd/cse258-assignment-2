{
 "cells": [
  {
   "cell_type": "code",
   "execution_count": 1,
   "metadata": {},
   "outputs": [],
   "source": [
    "import string\n",
    "sent_list = []\n",
    "labels = []\n",
    "with open('balance_train.tsv', 'r') as f:\n",
    "    for line in f:\n",
    "        sent, label = line.strip('\\n').split('\\t')\n",
    "        labels.append(int(label))\n",
    "        words = sent.split(' ')\n",
    "        pure_words = []\n",
    "        for w in words:\n",
    "            if w not in string.punctuation:\n",
    "                pure_words.append(w)\n",
    "        sent_list.append(pure_words)"
   ]
  },
  {
   "cell_type": "code",
   "execution_count": 2,
   "metadata": {},
   "outputs": [],
   "source": [
    "from collections import defaultdict\n",
    "unigram = defaultdict(int)\n",
    "for sent in sent_list:\n",
    "    for w in sent:\n",
    "        unigram[w] += 1\n",
    "unigram = sorted(unigram.items(), key=lambda x:x[1], reverse=True)"
   ]
  },
  {
   "cell_type": "code",
   "execution_count": 3,
   "metadata": {},
   "outputs": [],
   "source": [
    "top1000_unigram = unigram[:1000]\n",
    "uniwords = [i[0] for i in top1000_unigram]\n",
    "uniwordId = dict(zip(uniwords, range(len(uniwords))))"
   ]
  },
  {
   "cell_type": "code",
   "execution_count": 4,
   "metadata": {},
   "outputs": [],
   "source": [
    "train_X = []\n",
    "\n",
    "for sent in sent_list:\n",
    "    feat = [0]*len(uniwords)\n",
    "    for word in sent:\n",
    "        if word in uniwords:\n",
    "            feat[uniwordId[word]] += 1\n",
    "    train_X.append(feat)"
   ]
  },
  {
   "cell_type": "code",
   "execution_count": 5,
   "metadata": {},
   "outputs": [],
   "source": [
    "test_sent_list = []\n",
    "test_labels = []\n",
    "with open('balance_test.tsv', 'r') as f:\n",
    "    for line in f:\n",
    "        sent, label = line.strip('\\n').split('\\t')\n",
    "        test_labels.append(int(label))\n",
    "        words = sent.split(' ')\n",
    "        pure_words = []\n",
    "        for w in words:\n",
    "            if w not in string.punctuation:\n",
    "                pure_words.append(w)\n",
    "        test_sent_list.append(pure_words)"
   ]
  },
  {
   "cell_type": "code",
   "execution_count": 6,
   "metadata": {},
   "outputs": [],
   "source": [
    "test_X = []\n",
    "\n",
    "for sent in test_sent_list:\n",
    "    feat = [0]*len(uniwords)\n",
    "    for word in sent:\n",
    "        if word in uniwords:\n",
    "            feat[uniwordId[word]] += 1\n",
    "    test_X.append(feat)"
   ]
  },
  {
   "cell_type": "code",
   "execution_count": 7,
   "metadata": {
    "scrolled": true
   },
   "outputs": [
    {
     "name": "stderr",
     "output_type": "stream",
     "text": [
      "/usr/local/lib/python3.7/site-packages/sklearn/linear_model/logistic.py:432: FutureWarning: Default solver will be changed to 'lbfgs' in 0.22. Specify a solver to silence this warning.\n",
      "  FutureWarning)\n"
     ]
    }
   ],
   "source": [
    "from sklearn.linear_model import LogisticRegression\n",
    "\n",
    "clf = LogisticRegression().fit(train_X, labels)"
   ]
  },
  {
   "cell_type": "code",
   "execution_count": 8,
   "metadata": {},
   "outputs": [],
   "source": [
    "pred = clf.predict(test_X)"
   ]
  },
  {
   "cell_type": "code",
   "execution_count": 9,
   "metadata": {},
   "outputs": [
    {
     "name": "stdout",
     "output_type": "stream",
     "text": [
      "0.8271887725421757\n"
     ]
    }
   ],
   "source": [
    "correct = 0\n",
    "for y, p in zip(test_labels, list(pred)):\n",
    "    if y == p:\n",
    "        correct += 1\n",
    "acc = correct/len(test_labels)\n",
    "print(acc)"
   ]
  },
  {
   "cell_type": "markdown",
   "metadata": {},
   "source": [
    "### Add text feature"
   ]
  },
  {
   "cell_type": "code",
   "execution_count": 10,
   "metadata": {},
   "outputs": [],
   "source": [
    "theta = clf.coef_[0]"
   ]
  },
  {
   "cell_type": "code",
   "execution_count": 11,
   "metadata": {},
   "outputs": [],
   "source": [
    "weights = list(zip(theta, uniwords + ['constant_feat']))"
   ]
  },
  {
   "cell_type": "code",
   "execution_count": 12,
   "metadata": {},
   "outputs": [],
   "source": [
    "weights.sort()"
   ]
  },
  {
   "cell_type": "code",
   "execution_count": 13,
   "metadata": {},
   "outputs": [
    {
     "name": "stdout",
     "output_type": "stream",
     "text": [
      "[(-2.336391963979517, 'poor'), (-2.2532475675410786, 'worst'), (-2.2213996861710847, 'unus'), (-2.1981681125821213, 'unfortun'), (-2.1750164675562154, 'cheapli'), (-2.166248433666351, 'useless'), (-2.0791677960710104, 'horribl'), (-2.03688669795009, 'disappoint'), (-2.032843007799819, 'return'), (-1.8454287599999812, 'terribl')]\n"
     ]
    }
   ],
   "source": [
    "print(weights[:10])"
   ]
  },
  {
   "cell_type": "code",
   "execution_count": 14,
   "metadata": {},
   "outputs": [
    {
     "name": "stdout",
     "output_type": "stream",
     "text": [
      "[(1.427200113665973, 'great'), (1.4401345515465582, 'glad'), (1.5381626415730898, 'perfectli'), (1.5466560087928187, 'amaz'), (1.6884581208756244, 'beat'), (1.7362669972592484, 'fantast'), (1.8027898034985426, 'perfect'), (1.8748171641454414, 'awesom'), (1.8820758390998003, 'highli'), (1.88518610059358, 'excel')]\n"
     ]
    }
   ],
   "source": [
    "print(weights[-10:])"
   ]
  },
  {
   "cell_type": "code",
   "execution_count": 15,
   "metadata": {},
   "outputs": [],
   "source": [
    "positiveWords = []\n",
    "negativeWords = []\n",
    "for item in weights[:10]:\n",
    "    w = item[1]\n",
    "    negativeWords.append(w)\n",
    "for item in weights[-10:]:\n",
    "    w = item[1]\n",
    "    positiveWords.append(w)"
   ]
  },
  {
   "cell_type": "code",
   "execution_count": 16,
   "metadata": {},
   "outputs": [],
   "source": [
    "posId = dict(zip(positiveWords, range(len(positiveWords))))\n",
    "negId = dict(zip(negativeWords, range(len(negativeWords))))"
   ]
  },
  {
   "cell_type": "code",
   "execution_count": 17,
   "metadata": {},
   "outputs": [],
   "source": [
    "new_train_X = []\n",
    "for sent, vector in zip(sent_list, train_X):\n",
    "    posVec = [0]*len(positiveWords)\n",
    "    negVec = [0]*len(negativeWords)\n",
    "    posAppear = set()\n",
    "    negAppear = set()\n",
    "    for w in sent:\n",
    "        if w in positiveWords:\n",
    "            posVec[posId[w]] += 1\n",
    "            posAppear.add(w)\n",
    "        if w in negativeWords:\n",
    "            negVec[negId[w]] += 1\n",
    "            negAppear.add(w)\n",
    "    posFreq = len(posAppear)/len(positiveWords)\n",
    "    negFreq = len(negAppear)/len(negativeWords)\n",
    "    new_v = vector + posVec + [posFreq] + negVec + [negFreq]\n",
    "    new_train_X.append(new_v)"
   ]
  },
  {
   "cell_type": "code",
   "execution_count": 18,
   "metadata": {},
   "outputs": [],
   "source": [
    "new_test_X = []\n",
    "for sent, vector in zip(test_sent_list, test_X):\n",
    "    posVec = [0]*len(positiveWords)\n",
    "    negVec = [0]*len(negativeWords)\n",
    "    posAppear = set()\n",
    "    negAppear = set()\n",
    "    for w in sent:\n",
    "        if w in positiveWords:\n",
    "            posVec[posId[w]] += 1\n",
    "            posAppear.add(w)\n",
    "        if w in negativeWords:\n",
    "            negVec[negId[w]] += 1\n",
    "            negAppear.add(w)\n",
    "    posFreq = len(posAppear)/len(positiveWords)\n",
    "    negFreq = len(negAppear)/len(negativeWords)\n",
    "    new_v = vector + posVec + [posFreq] + negVec + [negFreq]\n",
    "    new_test_X.append(new_v)"
   ]
  },
  {
   "cell_type": "code",
   "execution_count": 19,
   "metadata": {},
   "outputs": [
    {
     "name": "stderr",
     "output_type": "stream",
     "text": [
      "/usr/local/lib/python3.7/site-packages/sklearn/linear_model/logistic.py:432: FutureWarning: Default solver will be changed to 'lbfgs' in 0.22. Specify a solver to silence this warning.\n",
      "  FutureWarning)\n"
     ]
    }
   ],
   "source": [
    "clf = LogisticRegression().fit(new_train_X, labels)"
   ]
  },
  {
   "cell_type": "code",
   "execution_count": 20,
   "metadata": {},
   "outputs": [],
   "source": [
    "pred = clf.predict(new_test_X)"
   ]
  },
  {
   "cell_type": "code",
   "execution_count": 21,
   "metadata": {},
   "outputs": [
    {
     "name": "stdout",
     "output_type": "stream",
     "text": [
      "0.8273342059336823\n"
     ]
    }
   ],
   "source": [
    "correct = 0\n",
    "for y, p in zip(test_labels, list(pred)):\n",
    "    if y == p:\n",
    "        correct += 1\n",
    "acc = correct/len(test_labels)\n",
    "print(acc)"
   ]
  },
  {
   "cell_type": "markdown",
   "metadata": {},
   "source": [
    "### Add avg number of words in a sentence"
   ]
  },
  {
   "cell_type": "code",
   "execution_count": 22,
   "metadata": {},
   "outputs": [],
   "source": [
    "train_avgword_count = []\n",
    "with open('balance_train.tsv', 'r') as f:\n",
    "    for line in f:\n",
    "        sent, _ = line.strip('\\n').split('\\t')\n",
    "        words = sent.split(' ')\n",
    "        cur_word_c = 0\n",
    "        cur_s_c = 0\n",
    "        for w in words:\n",
    "            if w == '.' or w == '?' or w == '!' or w == ',':\n",
    "                cur_s_c += 1\n",
    "            else:\n",
    "                cur_word_c += 1\n",
    "        if sent != \"\" and cur_s_c == 0:\n",
    "            cur_s_c = 1\n",
    "        if sent == \"\":\n",
    "            train_avgword_count.append(0)\n",
    "        else:\n",
    "            train_avgword_count.append(cur_word_c/cur_s_c)"
   ]
  },
  {
   "cell_type": "code",
   "execution_count": 23,
   "metadata": {},
   "outputs": [],
   "source": [
    "new_train_X2 = []\n",
    "for sent_c, vector in zip(train_avgword_count, new_train_X):\n",
    "    new_v = vector + [sent_c]\n",
    "    new_train_X2.append(new_v)"
   ]
  },
  {
   "cell_type": "code",
   "execution_count": 24,
   "metadata": {},
   "outputs": [],
   "source": [
    "test_avgword_count = []\n",
    "with open('balance_test.tsv', 'r') as f:\n",
    "    for line in f:\n",
    "        sent, _ = line.strip('\\n').split('\\t')\n",
    "        words = sent.split(' ')\n",
    "        cur_word_c = 0\n",
    "        cur_s_c = 0\n",
    "        for w in words:\n",
    "            if w == '.' or w == '?' or w == '!' or w == ',':\n",
    "                cur_s_c += 1\n",
    "            else:\n",
    "                cur_word_c += 1\n",
    "        if sent != \"\" and cur_s_c == 0:\n",
    "            cur_s_c = 1\n",
    "        if sent == \"\":\n",
    "            test_avgword_count.append(0)\n",
    "        else:\n",
    "            test_avgword_count.append(cur_word_c/cur_s_c)"
   ]
  },
  {
   "cell_type": "code",
   "execution_count": 25,
   "metadata": {},
   "outputs": [],
   "source": [
    "new_test_X2 = []\n",
    "for sent_c, vector in zip(test_avgword_count, new_test_X):\n",
    "    new_v = vector + [sent_c]\n",
    "    new_test_X2.append(new_v)"
   ]
  },
  {
   "cell_type": "code",
   "execution_count": 26,
   "metadata": {},
   "outputs": [
    {
     "name": "stderr",
     "output_type": "stream",
     "text": [
      "/usr/local/lib/python3.7/site-packages/sklearn/linear_model/logistic.py:432: FutureWarning: Default solver will be changed to 'lbfgs' in 0.22. Specify a solver to silence this warning.\n",
      "  FutureWarning)\n"
     ]
    }
   ],
   "source": [
    "clf = LogisticRegression().fit(new_train_X2, labels)"
   ]
  },
  {
   "cell_type": "code",
   "execution_count": 27,
   "metadata": {},
   "outputs": [],
   "source": [
    "pred = clf.predict(new_test_X2)"
   ]
  },
  {
   "cell_type": "code",
   "execution_count": 28,
   "metadata": {},
   "outputs": [
    {
     "name": "stdout",
     "output_type": "stream",
     "text": [
      "0.8263161721931356\n"
     ]
    }
   ],
   "source": [
    "correct = 0\n",
    "for y, p in zip(test_labels, list(pred)):\n",
    "    if y == p:\n",
    "        correct += 1\n",
    "acc = correct/len(test_labels)\n",
    "print(acc)"
   ]
  }
 ],
 "metadata": {
  "kernelspec": {
   "display_name": "Python 3",
   "language": "python",
   "name": "python3"
  },
  "language_info": {
   "codemirror_mode": {
    "name": "ipython",
    "version": 3
   },
   "file_extension": ".py",
   "mimetype": "text/x-python",
   "name": "python",
   "nbconvert_exporter": "python",
   "pygments_lexer": "ipython3",
   "version": "3.7.4"
  }
 },
 "nbformat": 4,
 "nbformat_minor": 2
}
