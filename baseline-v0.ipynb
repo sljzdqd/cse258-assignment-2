{
 "cells": [
  {
   "cell_type": "markdown",
   "metadata": {},
   "source": [
    "### Generate training data\n",
    "\n",
    "use pure text and label"
   ]
  },
  {
   "cell_type": "code",
   "execution_count": 9,
   "metadata": {},
   "outputs": [],
   "source": [
    "def combine_data(path):\n",
    "    rating = [1, 2, 3, 4, 5]\n",
    "    with open('pure_text_data.tsv', 'w') as f:\n",
    "        for r in rating:\n",
    "            rfile = path + 'Office_Products_5.json.gz_' + str(r) + '.0.txt'\n",
    "            if r <= 3:\n",
    "                label = 0\n",
    "            else:\n",
    "                label = 1\n",
    "            with open(rfile, 'r') as rf:\n",
    "                for line in rf:\n",
    "                    f.write(line.strip('\\n') + '\\t' + str(label) + '\\n')"
   ]
  },
  {
   "cell_type": "code",
   "execution_count": 10,
   "metadata": {},
   "outputs": [],
   "source": [
    "path = 'data/'\n",
    "combine_data(path)"
   ]
  },
  {
   "cell_type": "code",
   "execution_count": 11,
   "metadata": {},
   "outputs": [],
   "source": [
    "total_data = []\n",
    "with open('pure_text_data.tsv', 'r') as f:\n",
    "    for line in f:\n",
    "        sent, label = line.strip('\\n').split('\\t')\n",
    "        total_data.append((sent, label))"
   ]
  },
  {
   "cell_type": "code",
   "execution_count": 13,
   "metadata": {},
   "outputs": [],
   "source": [
    "import random\n",
    "random.shuffle(total_data)"
   ]
  },
  {
   "cell_type": "code",
   "execution_count": 14,
   "metadata": {},
   "outputs": [],
   "source": [
    "train_data = total_data[:int(len(total_data)*0.7)]\n",
    "dev_data = total_data[int(len(total_data)*0.7):int(len(total_data)*0.85)]\n",
    "test_data = total_data[int(len(total_data)*0.85):]"
   ]
  },
  {
   "cell_type": "code",
   "execution_count": 15,
   "metadata": {},
   "outputs": [],
   "source": [
    "with open('train_data.tsv', 'w') as f:\n",
    "    for d in train_data:\n",
    "        f.write(d[0] + '\\t' + d[1] + '\\n')\n",
    "with open('dev_data.tsv', 'w') as f:\n",
    "    for d in dev_data:\n",
    "        f.write(d[0] + '\\t' + d[1] + '\\n')\n",
    "with open('test_data.tsv', 'w') as f:\n",
    "    for d in test_data:\n",
    "        f.write(d[0] + '\\t' + d[1] + '\\n')"
   ]
  },
  {
   "cell_type": "markdown",
   "metadata": {},
   "source": [
    "### fit logistic regression model"
   ]
  },
  {
   "cell_type": "code",
   "execution_count": 25,
   "metadata": {},
   "outputs": [],
   "source": [
    "from sklearn.feature_extraction.text import CountVectorizer\n",
    "\n",
    "corpus = []\n",
    "labels = []\n",
    "with open('train_data.tsv', 'r') as f:\n",
    "    for line in f:\n",
    "        sent, label = line.strip('\\n').split('\\t')\n",
    "        corpus.append(sent)\n",
    "        labels.append(int(label))\n",
    "        \n",
    "test_corpus = []\n",
    "test_labels = []\n",
    "with open('test_data.tsv', 'r') as f:\n",
    "    for line in f:\n",
    "        sent, label = line.strip('\\n').split('\\t')\n",
    "        test_corpus.append(sent)\n",
    "        test_labels.append(int(label))"
   ]
  },
  {
   "cell_type": "code",
   "execution_count": 26,
   "metadata": {},
   "outputs": [],
   "source": [
    "vectorizer = CountVectorizer()\n",
    "X = vectorizer.fit_transform(corpus+test_corpus)"
   ]
  },
  {
   "cell_type": "code",
   "execution_count": 27,
   "metadata": {},
   "outputs": [
    {
     "name": "stdout",
     "output_type": "stream",
     "text": [
      "<class 'scipy.sparse.csr.csr_matrix'>\n",
      "(610907, 83864)\n",
      "503099\n"
     ]
    }
   ],
   "source": [
    "print(type(X))\n",
    "print(X.shape)\n",
    "print(len(labels))"
   ]
  },
  {
   "cell_type": "code",
   "execution_count": 28,
   "metadata": {},
   "outputs": [],
   "source": [
    "train_X = X[:len(corpus)]\n",
    "test_X = X[len(corpus):]"
   ]
  },
  {
   "cell_type": "code",
   "execution_count": 30,
   "metadata": {},
   "outputs": [
    {
     "name": "stdout",
     "output_type": "stream",
     "text": [
      "(503099, 83864)\n",
      "503099\n",
      "(107808, 83864)\n",
      "107808\n"
     ]
    }
   ],
   "source": [
    "print(train_X.shape)\n",
    "print(len(labels))\n",
    "print(test_X.shape)\n",
    "print(len(test_labels))"
   ]
  },
  {
   "cell_type": "code",
   "execution_count": 35,
   "metadata": {},
   "outputs": [
    {
     "name": "stderr",
     "output_type": "stream",
     "text": [
      "/usr/local/lib/python3.7/site-packages/sklearn/linear_model/logistic.py:432: FutureWarning: Default solver will be changed to 'lbfgs' in 0.22. Specify a solver to silence this warning.\n",
      "  FutureWarning)\n"
     ]
    }
   ],
   "source": [
    "from sklearn.linear_model import LogisticRegression\n",
    "\n",
    "clf = LogisticRegression(class_weight = 'balanced').fit(train_X, labels)"
   ]
  },
  {
   "cell_type": "code",
   "execution_count": 36,
   "metadata": {
    "scrolled": false
   },
   "outputs": [],
   "source": [
    "pred = clf.predict(test_X)"
   ]
  },
  {
   "cell_type": "code",
   "execution_count": 38,
   "metadata": {},
   "outputs": [
    {
     "name": "stdout",
     "output_type": "stream",
     "text": [
      "0.8832925200356189\n"
     ]
    }
   ],
   "source": [
    "correct = 0\n",
    "for y, p in zip(test_labels, list(pred)):\n",
    "    if y == p:\n",
    "        correct += 1\n",
    "acc = correct/len(test_labels)\n",
    "print(acc)"
   ]
  },
  {
   "cell_type": "code",
   "execution_count": 39,
   "metadata": {},
   "outputs": [
    {
     "name": "stdout",
     "output_type": "stream",
     "text": [
      "94008\n",
      "13800\n"
     ]
    }
   ],
   "source": [
    "pos = 0\n",
    "neg = 0\n",
    "for y in test_labels:\n",
    "    if y == 1:\n",
    "        pos += 1\n",
    "    else:\n",
    "        neg += 1\n",
    "print(pos)\n",
    "print(neg)"
   ]
  }
 ],
 "metadata": {
  "kernelspec": {
   "display_name": "Python 3",
   "language": "python",
   "name": "python3"
  },
  "language_info": {
   "codemirror_mode": {
    "name": "ipython",
    "version": 3
   },
   "file_extension": ".py",
   "mimetype": "text/x-python",
   "name": "python",
   "nbconvert_exporter": "python",
   "pygments_lexer": "ipython3",
   "version": "3.7.4"
  }
 },
 "nbformat": 4,
 "nbformat_minor": 2
}
