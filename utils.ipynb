{
 "cells": [
  {
   "cell_type": "markdown",
   "metadata": {},
   "source": [
    "### Load data into data frames"
   ]
  },
  {
   "cell_type": "code",
   "execution_count": 1,
   "metadata": {},
   "outputs": [],
   "source": [
    "import gzip\n",
    "import json\n",
    "import pandas as pd\n",
    "import matplotlib.pyplot as plt\n",
    "import numpy as np\n",
    "import math\n",
    "from collections import defaultdict\n",
    "from itertools import groupby\n",
    "import seaborn as sns\n",
    "\n",
    "def parse(path):\n",
    "  g = gzip.open(path, 'rb')\n",
    "  for l in g:\n",
    "    yield json.loads(l)\n",
    "\n",
    "\n",
    "def getDF(path):\n",
    "  i = 0\n",
    "  df = {}\n",
    "  for d in parse(path):\n",
    "    df[i] = d\n",
    "    i += 1\n",
    "  return pd.DataFrame.from_dict(df, orient='index')"
   ]
  },
  {
   "cell_type": "markdown",
   "metadata": {},
   "source": [
    "### Prepare text data for sentimental analysis\n",
    "\n",
    "E.g.\n",
    "Given fn.json with rating from 1 to 3,\n",
    "generate fn_1.txt, fn_2.txt, fn_3.txt"
   ]
  },
  {
   "cell_type": "code",
   "execution_count": 27,
   "metadata": {},
   "outputs": [],
   "source": [
    "def clean_text(text):\n",
    "    return text.replace('\\n', '')\n",
    "\n",
    "\n",
    "def extract_review_text(path):\n",
    "    df = getDF(path)\n",
    "    dir = path.strip('.json.gz')\n",
    "\n",
    "    # [1.0, 2.0, 3.0, 4.0, 5.0]\n",
    "    rating_vals = set(df['overall'].tolist())\n",
    "    print('Ratings are: {}'.format(rating_vals))\n",
    "\n",
    "    fps = {r: open('%s_%s.txt'%(dir,str(r)), 'w') for r in rating_vals}\n",
    "    for r in rating_vals:\n",
    "      reviews = set(df[df['overall']==r]['reviewText'].values) #TODO: why duplicates?\n",
    "      print('Extracting reviews for rating {}'.format(r))\n",
    "      for review in reviews:\n",
    "        fps[r].write(clean_text(review) + '\\n')\n",
    "\n",
    "    for r in fps:\n",
    "      fps[r].close()\n",
    "    \n",
    "    print('Finish extracting reviews!')"
   ]
  },
  {
   "cell_type": "code",
   "execution_count": 28,
   "metadata": {},
   "outputs": [],
   "source": [
    "path = 'data/Digital_Music_5.json.gz'\n",
    "df = getDF(path)"
   ]
  },
  {
   "cell_type": "code",
   "execution_count": 29,
   "metadata": {},
   "outputs": [
    {
     "data": {
      "text/plain": [
       "(169781, 12)"
      ]
     },
     "execution_count": 29,
     "metadata": {},
     "output_type": "execute_result"
    }
   ],
   "source": [
    "df.shape"
   ]
  },
  {
   "cell_type": "code",
   "execution_count": 30,
   "metadata": {
    "scrolled": true
   },
   "outputs": [
    {
     "data": {
      "text/html": [
       "<div>\n",
       "<style scoped>\n",
       "    .dataframe tbody tr th:only-of-type {\n",
       "        vertical-align: middle;\n",
       "    }\n",
       "\n",
       "    .dataframe tbody tr th {\n",
       "        vertical-align: top;\n",
       "    }\n",
       "\n",
       "    .dataframe thead th {\n",
       "        text-align: right;\n",
       "    }\n",
       "</style>\n",
       "<table border=\"1\" class=\"dataframe\">\n",
       "  <thead>\n",
       "    <tr style=\"text-align: right;\">\n",
       "      <th></th>\n",
       "      <th>overall</th>\n",
       "      <th>vote</th>\n",
       "      <th>verified</th>\n",
       "      <th>reviewTime</th>\n",
       "      <th>reviewerID</th>\n",
       "      <th>asin</th>\n",
       "      <th>style</th>\n",
       "      <th>reviewerName</th>\n",
       "      <th>reviewText</th>\n",
       "      <th>summary</th>\n",
       "      <th>unixReviewTime</th>\n",
       "      <th>image</th>\n",
       "    </tr>\n",
       "  </thead>\n",
       "  <tbody>\n",
       "    <tr>\n",
       "      <th>0</th>\n",
       "      <td>5.0</td>\n",
       "      <td>3</td>\n",
       "      <td>True</td>\n",
       "      <td>06 3, 2013</td>\n",
       "      <td>A2TYZ821XXK2YZ</td>\n",
       "      <td>3426958910</td>\n",
       "      <td>{'Format:': ' Audio CD'}</td>\n",
       "      <td>Garrett</td>\n",
       "      <td>This is awesome to listen to, A must-have for ...</td>\n",
       "      <td>Slayer Rules!</td>\n",
       "      <td>1370217600</td>\n",
       "      <td>NaN</td>\n",
       "    </tr>\n",
       "    <tr>\n",
       "      <th>1</th>\n",
       "      <td>5.0</td>\n",
       "      <td>NaN</td>\n",
       "      <td>True</td>\n",
       "      <td>10 11, 2014</td>\n",
       "      <td>A3OFSREZADFUDY</td>\n",
       "      <td>3426958910</td>\n",
       "      <td>{'Format:': ' Audio CD'}</td>\n",
       "      <td>Ad</td>\n",
       "      <td>bien</td>\n",
       "      <td>Five Stars</td>\n",
       "      <td>1412985600</td>\n",
       "      <td>NaN</td>\n",
       "    </tr>\n",
       "    <tr>\n",
       "      <th>2</th>\n",
       "      <td>5.0</td>\n",
       "      <td>NaN</td>\n",
       "      <td>True</td>\n",
       "      <td>02 11, 2014</td>\n",
       "      <td>A2VAMODP8M77NG</td>\n",
       "      <td>3426958910</td>\n",
       "      <td>{'Format:': ' Audio CD'}</td>\n",
       "      <td>JTGabq</td>\n",
       "      <td>It was great to hear the old stuff again and I...</td>\n",
       "      <td>SLAYER!!!!!!!!!!!!!!!!!!!!!</td>\n",
       "      <td>1392076800</td>\n",
       "      <td>NaN</td>\n",
       "    </tr>\n",
       "  </tbody>\n",
       "</table>\n",
       "</div>"
      ],
      "text/plain": [
       "   overall vote  verified   reviewTime      reviewerID        asin  \\\n",
       "0      5.0    3      True   06 3, 2013  A2TYZ821XXK2YZ  3426958910   \n",
       "1      5.0  NaN      True  10 11, 2014  A3OFSREZADFUDY  3426958910   \n",
       "2      5.0  NaN      True  02 11, 2014  A2VAMODP8M77NG  3426958910   \n",
       "\n",
       "                      style reviewerName  \\\n",
       "0  {'Format:': ' Audio CD'}      Garrett   \n",
       "1  {'Format:': ' Audio CD'}           Ad   \n",
       "2  {'Format:': ' Audio CD'}       JTGabq   \n",
       "\n",
       "                                          reviewText  \\\n",
       "0  This is awesome to listen to, A must-have for ...   \n",
       "1                                               bien   \n",
       "2  It was great to hear the old stuff again and I...   \n",
       "\n",
       "                       summary  unixReviewTime image  \n",
       "0                Slayer Rules!      1370217600   NaN  \n",
       "1                   Five Stars      1412985600   NaN  \n",
       "2  SLAYER!!!!!!!!!!!!!!!!!!!!!      1392076800   NaN  "
      ]
     },
     "execution_count": 30,
     "metadata": {},
     "output_type": "execute_result"
    }
   ],
   "source": [
    "df[:3]"
   ]
  },
  {
   "cell_type": "markdown",
   "metadata": {},
   "source": [
    "At the moment, we aren't using **'image'** and **'style'**"
   ]
  },
  {
   "cell_type": "code",
   "execution_count": 31,
   "metadata": {},
   "outputs": [],
   "source": [
    "df = df.drop('image', 1)\n",
    "df['vote'].fillna(0, inplace=True)"
   ]
  },
  {
   "cell_type": "code",
   "execution_count": 32,
   "metadata": {},
   "outputs": [
    {
     "data": {
      "text/plain": [
       "(146149, 10)"
      ]
     },
     "execution_count": 32,
     "metadata": {},
     "output_type": "execute_result"
    }
   ],
   "source": [
    "uniDf = df.drop('style', 1).drop_duplicates()\n",
    "uniDf.shape"
   ]
  },
  {
   "cell_type": "code",
   "execution_count": 33,
   "metadata": {},
   "outputs": [
    {
     "data": {
      "text/plain": [
       "(145292, 10)"
      ]
     },
     "execution_count": 33,
     "metadata": {},
     "output_type": "execute_result"
    }
   ],
   "source": [
    "uniDf.drop_duplicates(subset=['reviewerID', 'asin']).shape"
   ]
  },
  {
   "cell_type": "code",
   "execution_count": 34,
   "metadata": {},
   "outputs": [
    {
     "data": {
      "text/html": [
       "<div>\n",
       "<style scoped>\n",
       "    .dataframe tbody tr th:only-of-type {\n",
       "        vertical-align: middle;\n",
       "    }\n",
       "\n",
       "    .dataframe tbody tr th {\n",
       "        vertical-align: top;\n",
       "    }\n",
       "\n",
       "    .dataframe thead th {\n",
       "        text-align: right;\n",
       "    }\n",
       "</style>\n",
       "<table border=\"1\" class=\"dataframe\">\n",
       "  <thead>\n",
       "    <tr style=\"text-align: right;\">\n",
       "      <th></th>\n",
       "      <th>overall</th>\n",
       "      <th>vote</th>\n",
       "      <th>verified</th>\n",
       "      <th>reviewTime</th>\n",
       "      <th>reviewerID</th>\n",
       "      <th>asin</th>\n",
       "      <th>reviewerName</th>\n",
       "      <th>reviewText</th>\n",
       "      <th>summary</th>\n",
       "      <th>unixReviewTime</th>\n",
       "    </tr>\n",
       "  </thead>\n",
       "  <tbody>\n",
       "    <tr>\n",
       "      <th>0</th>\n",
       "      <td>5.0</td>\n",
       "      <td>3</td>\n",
       "      <td>True</td>\n",
       "      <td>06 3, 2013</td>\n",
       "      <td>A2TYZ821XXK2YZ</td>\n",
       "      <td>3426958910</td>\n",
       "      <td>Garrett</td>\n",
       "      <td>This is awesome to listen to, A must-have for ...</td>\n",
       "      <td>Slayer Rules!</td>\n",
       "      <td>1370217600</td>\n",
       "    </tr>\n",
       "    <tr>\n",
       "      <th>1</th>\n",
       "      <td>5.0</td>\n",
       "      <td>0</td>\n",
       "      <td>True</td>\n",
       "      <td>10 11, 2014</td>\n",
       "      <td>A3OFSREZADFUDY</td>\n",
       "      <td>3426958910</td>\n",
       "      <td>Ad</td>\n",
       "      <td>bien</td>\n",
       "      <td>Five Stars</td>\n",
       "      <td>1412985600</td>\n",
       "    </tr>\n",
       "    <tr>\n",
       "      <th>2</th>\n",
       "      <td>5.0</td>\n",
       "      <td>0</td>\n",
       "      <td>True</td>\n",
       "      <td>02 11, 2014</td>\n",
       "      <td>A2VAMODP8M77NG</td>\n",
       "      <td>3426958910</td>\n",
       "      <td>JTGabq</td>\n",
       "      <td>It was great to hear the old stuff again and I...</td>\n",
       "      <td>SLAYER!!!!!!!!!!!!!!!!!!!!!</td>\n",
       "      <td>1392076800</td>\n",
       "    </tr>\n",
       "    <tr>\n",
       "      <th>3</th>\n",
       "      <td>4.0</td>\n",
       "      <td>3</td>\n",
       "      <td>False</td>\n",
       "      <td>12 7, 2013</td>\n",
       "      <td>AAKSLZ9IDTEH0</td>\n",
       "      <td>3426958910</td>\n",
       "      <td>john F&amp;#039;n doe</td>\n",
       "      <td>well best of's are a bit poison normally but t...</td>\n",
       "      <td>slayer greatest hits! you mean everything righ...</td>\n",
       "      <td>1386374400</td>\n",
       "    </tr>\n",
       "    <tr>\n",
       "      <th>4</th>\n",
       "      <td>5.0</td>\n",
       "      <td>0</td>\n",
       "      <td>True</td>\n",
       "      <td>06 12, 2016</td>\n",
       "      <td>A3OH43OZJLKI09</td>\n",
       "      <td>5557706259</td>\n",
       "      <td>melinda a goodman</td>\n",
       "      <td>What can I say? This is Casting Crowns!!!This ...</td>\n",
       "      <td>This is a good, blessing filled</td>\n",
       "      <td>1465689600</td>\n",
       "    </tr>\n",
       "    <tr>\n",
       "      <th>...</th>\n",
       "      <td>...</td>\n",
       "      <td>...</td>\n",
       "      <td>...</td>\n",
       "      <td>...</td>\n",
       "      <td>...</td>\n",
       "      <td>...</td>\n",
       "      <td>...</td>\n",
       "      <td>...</td>\n",
       "      <td>...</td>\n",
       "      <td>...</td>\n",
       "    </tr>\n",
       "    <tr>\n",
       "      <th>169776</th>\n",
       "      <td>5.0</td>\n",
       "      <td>0</td>\n",
       "      <td>True</td>\n",
       "      <td>08 19, 2018</td>\n",
       "      <td>A1SR2T84IXOMAQ</td>\n",
       "      <td>B01HJ91MTW</td>\n",
       "      <td>Diane B.</td>\n",
       "      <td>Casting Crowns songs are all wonderful!!</td>\n",
       "      <td>Great song!!</td>\n",
       "      <td>1534636800</td>\n",
       "    </tr>\n",
       "    <tr>\n",
       "      <th>169777</th>\n",
       "      <td>5.0</td>\n",
       "      <td>0</td>\n",
       "      <td>True</td>\n",
       "      <td>03 18, 2018</td>\n",
       "      <td>A2SR3DWJR1PYR6</td>\n",
       "      <td>B01HJ91MTW</td>\n",
       "      <td>jan c.</td>\n",
       "      <td>Just reminds you that you are never alone.</td>\n",
       "      <td>Five Stars</td>\n",
       "      <td>1521331200</td>\n",
       "    </tr>\n",
       "    <tr>\n",
       "      <th>169778</th>\n",
       "      <td>5.0</td>\n",
       "      <td>0</td>\n",
       "      <td>True</td>\n",
       "      <td>03 7, 2018</td>\n",
       "      <td>A24V7X30NIMOIY</td>\n",
       "      <td>B01HJ91MTW</td>\n",
       "      <td>Lori Y</td>\n",
       "      <td>Good product, good service.</td>\n",
       "      <td>Five Stars</td>\n",
       "      <td>1520380800</td>\n",
       "    </tr>\n",
       "    <tr>\n",
       "      <th>169779</th>\n",
       "      <td>5.0</td>\n",
       "      <td>0</td>\n",
       "      <td>True</td>\n",
       "      <td>02 12, 2018</td>\n",
       "      <td>A1LW10GYP2EYM1</td>\n",
       "      <td>B01HJ91MTW</td>\n",
       "      <td>N F</td>\n",
       "      <td>I love every single song this group sings. The...</td>\n",
       "      <td>Absolutely beautiful...</td>\n",
       "      <td>1518393600</td>\n",
       "    </tr>\n",
       "    <tr>\n",
       "      <th>169780</th>\n",
       "      <td>5.0</td>\n",
       "      <td>0</td>\n",
       "      <td>True</td>\n",
       "      <td>01 27, 2018</td>\n",
       "      <td>A26TH3YW0QWPI7</td>\n",
       "      <td>B01HJ91MTW</td>\n",
       "      <td>Susan Lane</td>\n",
       "      <td>Great song</td>\n",
       "      <td>Five Stars</td>\n",
       "      <td>1517011200</td>\n",
       "    </tr>\n",
       "  </tbody>\n",
       "</table>\n",
       "<p>146149 rows × 10 columns</p>\n",
       "</div>"
      ],
      "text/plain": [
       "        overall vote  verified   reviewTime      reviewerID        asin  \\\n",
       "0           5.0    3      True   06 3, 2013  A2TYZ821XXK2YZ  3426958910   \n",
       "1           5.0    0      True  10 11, 2014  A3OFSREZADFUDY  3426958910   \n",
       "2           5.0    0      True  02 11, 2014  A2VAMODP8M77NG  3426958910   \n",
       "3           4.0    3     False   12 7, 2013   AAKSLZ9IDTEH0  3426958910   \n",
       "4           5.0    0      True  06 12, 2016  A3OH43OZJLKI09  5557706259   \n",
       "...         ...  ...       ...          ...             ...         ...   \n",
       "169776      5.0    0      True  08 19, 2018  A1SR2T84IXOMAQ  B01HJ91MTW   \n",
       "169777      5.0    0      True  03 18, 2018  A2SR3DWJR1PYR6  B01HJ91MTW   \n",
       "169778      5.0    0      True   03 7, 2018  A24V7X30NIMOIY  B01HJ91MTW   \n",
       "169779      5.0    0      True  02 12, 2018  A1LW10GYP2EYM1  B01HJ91MTW   \n",
       "169780      5.0    0      True  01 27, 2018  A26TH3YW0QWPI7  B01HJ91MTW   \n",
       "\n",
       "             reviewerName                                         reviewText  \\\n",
       "0                 Garrett  This is awesome to listen to, A must-have for ...   \n",
       "1                      Ad                                               bien   \n",
       "2                  JTGabq  It was great to hear the old stuff again and I...   \n",
       "3       john F&#039;n doe  well best of's are a bit poison normally but t...   \n",
       "4       melinda a goodman  What can I say? This is Casting Crowns!!!This ...   \n",
       "...                   ...                                                ...   \n",
       "169776           Diane B.           Casting Crowns songs are all wonderful!!   \n",
       "169777             jan c.         Just reminds you that you are never alone.   \n",
       "169778             Lori Y                        Good product, good service.   \n",
       "169779                N F  I love every single song this group sings. The...   \n",
       "169780         Susan Lane                                         Great song   \n",
       "\n",
       "                                                  summary  unixReviewTime  \n",
       "0                                           Slayer Rules!      1370217600  \n",
       "1                                              Five Stars      1412985600  \n",
       "2                             SLAYER!!!!!!!!!!!!!!!!!!!!!      1392076800  \n",
       "3       slayer greatest hits! you mean everything righ...      1386374400  \n",
       "4                         This is a good, blessing filled      1465689600  \n",
       "...                                                   ...             ...  \n",
       "169776                                       Great song!!      1534636800  \n",
       "169777                                         Five Stars      1521331200  \n",
       "169778                                         Five Stars      1520380800  \n",
       "169779                            Absolutely beautiful...      1518393600  \n",
       "169780                                         Five Stars      1517011200  \n",
       "\n",
       "[146149 rows x 10 columns]"
      ]
     },
     "execution_count": 34,
     "metadata": {},
     "output_type": "execute_result"
    }
   ],
   "source": [
    "uniDf"
   ]
  },
  {
   "cell_type": "code",
   "execution_count": 51,
   "metadata": {
    "scrolled": true
   },
   "outputs": [],
   "source": [
    "uniDf['vote'] = uniDf['vote'].apply(lambda v : str(v).replace(',', ''))\n",
    "uniDf['vote'] = pd.to_numeric(uniDf['vote'])\n",
    "uniDf['reviewText'].fillna('', inplace=True)"
   ]
  },
  {
   "cell_type": "code",
   "execution_count": 57,
   "metadata": {},
   "outputs": [],
   "source": [
    "ratings = list(uniDf['overall'])\n",
    "votes = list(uniDf['vote'])\n",
    "items = list(uniDf['asin'])\n",
    "verified = list(uniDf['verified'])\n",
    "reviews = list(uniDf['reviewText'])\n",
    "\n",
    "count_r = [0] * 6\n",
    "count_verified = [0] * 6\n",
    "count_non_verified = [0] * 6\n",
    "r_items = defaultdict(list)\n",
    "count_r_items = [0] * 6\n",
    "count_review_length = [0] * 7"
   ]
  },
  {
   "cell_type": "code",
   "execution_count": 58,
   "metadata": {},
   "outputs": [
    {
     "data": {
      "text/html": [
       "<div>\n",
       "<style scoped>\n",
       "    .dataframe tbody tr th:only-of-type {\n",
       "        vertical-align: middle;\n",
       "    }\n",
       "\n",
       "    .dataframe tbody tr th {\n",
       "        vertical-align: top;\n",
       "    }\n",
       "\n",
       "    .dataframe thead th {\n",
       "        text-align: right;\n",
       "    }\n",
       "</style>\n",
       "<table border=\"1\" class=\"dataframe\">\n",
       "  <thead>\n",
       "    <tr style=\"text-align: right;\">\n",
       "      <th></th>\n",
       "      <th>overall</th>\n",
       "      <th>vote</th>\n",
       "      <th>verified</th>\n",
       "      <th>reviewTime</th>\n",
       "      <th>reviewerID</th>\n",
       "      <th>asin</th>\n",
       "      <th>reviewerName</th>\n",
       "      <th>reviewText</th>\n",
       "      <th>summary</th>\n",
       "      <th>unixReviewTime</th>\n",
       "    </tr>\n",
       "  </thead>\n",
       "  <tbody>\n",
       "    <tr>\n",
       "      <th>0</th>\n",
       "      <td>5.0</td>\n",
       "      <td>3</td>\n",
       "      <td>True</td>\n",
       "      <td>06 3, 2013</td>\n",
       "      <td>A2TYZ821XXK2YZ</td>\n",
       "      <td>3426958910</td>\n",
       "      <td>Garrett</td>\n",
       "      <td>This is awesome to listen to, A must-have for ...</td>\n",
       "      <td>Slayer Rules!</td>\n",
       "      <td>1370217600</td>\n",
       "    </tr>\n",
       "    <tr>\n",
       "      <th>1</th>\n",
       "      <td>5.0</td>\n",
       "      <td>0</td>\n",
       "      <td>True</td>\n",
       "      <td>10 11, 2014</td>\n",
       "      <td>A3OFSREZADFUDY</td>\n",
       "      <td>3426958910</td>\n",
       "      <td>Ad</td>\n",
       "      <td>bien</td>\n",
       "      <td>Five Stars</td>\n",
       "      <td>1412985600</td>\n",
       "    </tr>\n",
       "    <tr>\n",
       "      <th>2</th>\n",
       "      <td>5.0</td>\n",
       "      <td>0</td>\n",
       "      <td>True</td>\n",
       "      <td>02 11, 2014</td>\n",
       "      <td>A2VAMODP8M77NG</td>\n",
       "      <td>3426958910</td>\n",
       "      <td>JTGabq</td>\n",
       "      <td>It was great to hear the old stuff again and I...</td>\n",
       "      <td>SLAYER!!!!!!!!!!!!!!!!!!!!!</td>\n",
       "      <td>1392076800</td>\n",
       "    </tr>\n",
       "    <tr>\n",
       "      <th>3</th>\n",
       "      <td>4.0</td>\n",
       "      <td>3</td>\n",
       "      <td>False</td>\n",
       "      <td>12 7, 2013</td>\n",
       "      <td>AAKSLZ9IDTEH0</td>\n",
       "      <td>3426958910</td>\n",
       "      <td>john F&amp;#039;n doe</td>\n",
       "      <td>well best of's are a bit poison normally but t...</td>\n",
       "      <td>slayer greatest hits! you mean everything righ...</td>\n",
       "      <td>1386374400</td>\n",
       "    </tr>\n",
       "    <tr>\n",
       "      <th>4</th>\n",
       "      <td>5.0</td>\n",
       "      <td>0</td>\n",
       "      <td>True</td>\n",
       "      <td>06 12, 2016</td>\n",
       "      <td>A3OH43OZJLKI09</td>\n",
       "      <td>5557706259</td>\n",
       "      <td>melinda a goodman</td>\n",
       "      <td>What can I say? This is Casting Crowns!!!This ...</td>\n",
       "      <td>This is a good, blessing filled</td>\n",
       "      <td>1465689600</td>\n",
       "    </tr>\n",
       "    <tr>\n",
       "      <th>...</th>\n",
       "      <td>...</td>\n",
       "      <td>...</td>\n",
       "      <td>...</td>\n",
       "      <td>...</td>\n",
       "      <td>...</td>\n",
       "      <td>...</td>\n",
       "      <td>...</td>\n",
       "      <td>...</td>\n",
       "      <td>...</td>\n",
       "      <td>...</td>\n",
       "    </tr>\n",
       "    <tr>\n",
       "      <th>146144</th>\n",
       "      <td>5.0</td>\n",
       "      <td>0</td>\n",
       "      <td>True</td>\n",
       "      <td>08 19, 2018</td>\n",
       "      <td>A1SR2T84IXOMAQ</td>\n",
       "      <td>B01HJ91MTW</td>\n",
       "      <td>Diane B.</td>\n",
       "      <td>Casting Crowns songs are all wonderful!!</td>\n",
       "      <td>Great song!!</td>\n",
       "      <td>1534636800</td>\n",
       "    </tr>\n",
       "    <tr>\n",
       "      <th>146145</th>\n",
       "      <td>5.0</td>\n",
       "      <td>0</td>\n",
       "      <td>True</td>\n",
       "      <td>03 18, 2018</td>\n",
       "      <td>A2SR3DWJR1PYR6</td>\n",
       "      <td>B01HJ91MTW</td>\n",
       "      <td>jan c.</td>\n",
       "      <td>Just reminds you that you are never alone.</td>\n",
       "      <td>Five Stars</td>\n",
       "      <td>1521331200</td>\n",
       "    </tr>\n",
       "    <tr>\n",
       "      <th>146146</th>\n",
       "      <td>5.0</td>\n",
       "      <td>0</td>\n",
       "      <td>True</td>\n",
       "      <td>03 7, 2018</td>\n",
       "      <td>A24V7X30NIMOIY</td>\n",
       "      <td>B01HJ91MTW</td>\n",
       "      <td>Lori Y</td>\n",
       "      <td>Good product, good service.</td>\n",
       "      <td>Five Stars</td>\n",
       "      <td>1520380800</td>\n",
       "    </tr>\n",
       "    <tr>\n",
       "      <th>146147</th>\n",
       "      <td>5.0</td>\n",
       "      <td>0</td>\n",
       "      <td>True</td>\n",
       "      <td>02 12, 2018</td>\n",
       "      <td>A1LW10GYP2EYM1</td>\n",
       "      <td>B01HJ91MTW</td>\n",
       "      <td>N F</td>\n",
       "      <td>I love every single song this group sings. The...</td>\n",
       "      <td>Absolutely beautiful...</td>\n",
       "      <td>1518393600</td>\n",
       "    </tr>\n",
       "    <tr>\n",
       "      <th>146148</th>\n",
       "      <td>5.0</td>\n",
       "      <td>0</td>\n",
       "      <td>True</td>\n",
       "      <td>01 27, 2018</td>\n",
       "      <td>A26TH3YW0QWPI7</td>\n",
       "      <td>B01HJ91MTW</td>\n",
       "      <td>Susan Lane</td>\n",
       "      <td>Great song</td>\n",
       "      <td>Five Stars</td>\n",
       "      <td>1517011200</td>\n",
       "    </tr>\n",
       "  </tbody>\n",
       "</table>\n",
       "<p>146149 rows × 10 columns</p>\n",
       "</div>"
      ],
      "text/plain": [
       "        overall  vote  verified   reviewTime      reviewerID        asin  \\\n",
       "0           5.0     3      True   06 3, 2013  A2TYZ821XXK2YZ  3426958910   \n",
       "1           5.0     0      True  10 11, 2014  A3OFSREZADFUDY  3426958910   \n",
       "2           5.0     0      True  02 11, 2014  A2VAMODP8M77NG  3426958910   \n",
       "3           4.0     3     False   12 7, 2013   AAKSLZ9IDTEH0  3426958910   \n",
       "4           5.0     0      True  06 12, 2016  A3OH43OZJLKI09  5557706259   \n",
       "...         ...   ...       ...          ...             ...         ...   \n",
       "146144      5.0     0      True  08 19, 2018  A1SR2T84IXOMAQ  B01HJ91MTW   \n",
       "146145      5.0     0      True  03 18, 2018  A2SR3DWJR1PYR6  B01HJ91MTW   \n",
       "146146      5.0     0      True   03 7, 2018  A24V7X30NIMOIY  B01HJ91MTW   \n",
       "146147      5.0     0      True  02 12, 2018  A1LW10GYP2EYM1  B01HJ91MTW   \n",
       "146148      5.0     0      True  01 27, 2018  A26TH3YW0QWPI7  B01HJ91MTW   \n",
       "\n",
       "             reviewerName                                         reviewText  \\\n",
       "0                 Garrett  This is awesome to listen to, A must-have for ...   \n",
       "1                      Ad                                               bien   \n",
       "2                  JTGabq  It was great to hear the old stuff again and I...   \n",
       "3       john F&#039;n doe  well best of's are a bit poison normally but t...   \n",
       "4       melinda a goodman  What can I say? This is Casting Crowns!!!This ...   \n",
       "...                   ...                                                ...   \n",
       "146144           Diane B.           Casting Crowns songs are all wonderful!!   \n",
       "146145             jan c.         Just reminds you that you are never alone.   \n",
       "146146             Lori Y                        Good product, good service.   \n",
       "146147                N F  I love every single song this group sings. The...   \n",
       "146148         Susan Lane                                         Great song   \n",
       "\n",
       "                                                  summary  unixReviewTime  \n",
       "0                                           Slayer Rules!      1370217600  \n",
       "1                                              Five Stars      1412985600  \n",
       "2                             SLAYER!!!!!!!!!!!!!!!!!!!!!      1392076800  \n",
       "3       slayer greatest hits! you mean everything righ...      1386374400  \n",
       "4                         This is a good, blessing filled      1465689600  \n",
       "...                                                   ...             ...  \n",
       "146144                                       Great song!!      1534636800  \n",
       "146145                                         Five Stars      1521331200  \n",
       "146146                                         Five Stars      1520380800  \n",
       "146147                            Absolutely beautiful...      1518393600  \n",
       "146148                                         Five Stars      1517011200  \n",
       "\n",
       "[146149 rows x 10 columns]"
      ]
     },
     "execution_count": 58,
     "metadata": {},
     "output_type": "execute_result"
    }
   ],
   "source": [
    "uniDf.reset_index(drop=True)"
   ]
  },
  {
   "cell_type": "code",
   "execution_count": 59,
   "metadata": {},
   "outputs": [],
   "source": [
    "item_rating = []\n",
    "for i in range(len(ratings)):\n",
    "    r_items[items[i]].append(ratings[i])\n",
    "for item in r_items:\n",
    "    counts = np.bincount(r_items[item])\n",
    "    count = np.argmax(counts)\n",
    "    count_r_items[count] += 1\n",
    "count_r_items = count_r_items[1:]"
   ]
  },
  {
   "cell_type": "code",
   "execution_count": 60,
   "metadata": {},
   "outputs": [],
   "source": [
    "zero_votes = []\n",
    "non_zero_votes = []\n",
    "verified_rating = []\n",
    "non_verified_rating = []\n",
    "review_length = []\n",
    "\n",
    "for i in range(len(ratings)):\n",
    "    if verified[i] == True:\n",
    "        count_verified[int(ratings[i])] += 1\n",
    "        verified_rating.append(ratings[i])\n",
    "    else :\n",
    "        count_non_verified[int(ratings[i])] += 1\n",
    "        non_verified_rating.append(ratings[i])\n",
    "    count_r[int(ratings[i])] += 1\n",
    "    review_length.append(len(str(reviews[i])))"
   ]
  },
  {
   "cell_type": "code",
   "execution_count": 61,
   "metadata": {},
   "outputs": [],
   "source": [
    "max_len = 0\n",
    "for review in reviews:\n",
    "    if type(review) == float:\n",
    "        print(review)\n",
    "    if len(review) > max_len:\n",
    "        max_len = len(review)\n",
    "max_len = max_len//7"
   ]
  },
  {
   "cell_type": "code",
   "execution_count": 62,
   "metadata": {},
   "outputs": [
    {
     "name": "stdout",
     "output_type": "stream",
     "text": [
      "[145715, 372, 47, 5, 6, 3, 1]\n"
     ]
    }
   ],
   "source": [
    "i = 0\n",
    "for k, g in groupby(sorted(review_length), key=lambda x: x//max_len):\n",
    "    count_review_length[i] = len(list(g))\n",
    "    i += 1\n",
    "print(count_review_length)"
   ]
  },
  {
   "cell_type": "code",
   "execution_count": 63,
   "metadata": {},
   "outputs": [
    {
     "name": "stdout",
     "output_type": "stream",
     "text": [
      "[0, 1899, 1658, 6078, 20084, 116430]\n",
      "[0, 1166, 958, 4851, 17114, 104557]\n",
      "[0, 733, 700, 1227, 2970, 11873]\n"
     ]
    }
   ],
   "source": [
    "print(count_r)\n",
    "print(count_verified)\n",
    "print(count_non_verified)\n",
    "#print(review_length)"
   ]
  },
  {
   "cell_type": "code",
   "execution_count": 64,
   "metadata": {},
   "outputs": [
    {
     "data": {
      "image/png": "[encoded data removed]",
      "text/plain": [
       "<Figure size 432x288 with 1 Axes>"
      ]
     },
     "metadata": {
      "needs_background": "light"
     },
     "output_type": "display_data"
    }
   ],
   "source": [
    "n,bins,patches = plt.hist(ratings,50, facecolor='blue')\n",
    "plt.xlim([0,6])\n",
    "plt.xlabel(\"rating score\")\n",
    "plt.ylabel(\"number of reviews\")\n",
    "plt.title(\"rating histogram of all reviews \")\n",
    "plt.xticks(np.arange(0,6,1))\n",
    "plt.savefig('rating_histogram')\n",
    "plt.show()"
   ]
  },
  {
   "cell_type": "code",
   "execution_count": 65,
   "metadata": {},
   "outputs": [
    {
     "data": {
      "image/png": "[encoded data removed]",
      "text/plain": [
       "<Figure size 432x288 with 1 Axes>"
      ]
     },
     "metadata": {
      "needs_background": "light"
     },
     "output_type": "display_data"
    }
   ],
   "source": [
    "n,bins,patches = plt.hist(verified_rating,50, facecolor='blue')\n",
    "plt.xlim([0,6])\n",
    "plt.xlabel(\"rating score\")\n",
    "plt.ylabel(\"number of reviews\")\n",
    "plt.title(\"rating histogram of reviews, verified \")\n",
    "plt.xticks(np.arange(0,6,1))\n",
    "plt.savefig('verified_rating_histogram')\n",
    "plt.show()"
   ]
  },
  {
   "cell_type": "code",
   "execution_count": 66,
   "metadata": {},
   "outputs": [
    {
     "data": {
      "image/png": "[encoded data removed]",
      "text/plain": [
       "<Figure size 432x288 with 1 Axes>"
      ]
     },
     "metadata": {
      "needs_background": "light"
     },
     "output_type": "display_data"
    }
   ],
   "source": [
    "n,bins,patches = plt.hist(non_verified_rating,50, facecolor='blue')\n",
    "plt.xlim([0,6])\n",
    "plt.xlabel(\"rating score\")\n",
    "plt.ylabel(\"number of reviews\")\n",
    "plt.title(\"rating histogram of reviews, none_verified \")\n",
    "plt.xticks(np.arange(0,6,1))\n",
    "plt.savefig('none_verified rating_histogram')\n",
    "plt.show()"
   ]
  },
  {
   "cell_type": "code",
   "execution_count": 67,
   "metadata": {},
   "outputs": [
    {
     "data": {
      "image/png": "[encoded data removed]",
      "text/plain": [
       "<Figure size 432x288 with 1 Axes>"
      ]
     },
     "metadata": {},
     "output_type": "display_data"
    }
   ],
   "source": [
    "labels = ['1', '2', '3','4','5']\n",
    "colors = ['gold', 'yellowgreen', 'lightcoral', 'orange','lightskyblue']\n",
    "explode = (0.1, 0.1, 0.1, 0.1, 0.5)  # explode 1st slice\n",
    "\n",
    "\n",
    "plt.pie(count_r_items, labels=labels,explode = explode, colors=colors,\n",
    "autopct='%1.1f%%', shadow=True, startangle=140)\n",
    "plt.axis('equal')\n",
    "plt.title(\"rating percentage of items\")\n",
    "plt.show()"
   ]
  },
  {
   "cell_type": "code",
   "execution_count": 68,
   "metadata": {},
   "outputs": [
    {
     "data": {
      "image/png": "[encoded data removed]",
      "text/plain": [
       "<Figure size 432x288 with 1 Axes>"
      ]
     },
     "metadata": {},
     "output_type": "display_data"
    }
   ],
   "source": [
    "labels = ['0-'+str(max_len), str(max_len)+'-'+str(max_len*2), str(max_len*2)+'-'+str(max_len*3),str(max_len*3)+'-'+str(max_len*4),str(max_len*4)+'-'+str(max_len*5), str(max_len*5)+'-'+str(max_len*6), str(max_len*6)+'-'+str(max_len*7)]\n",
    "colors = ['gold', 'yellowgreen', 'lightcoral', 'orange','lightskyblue']\n",
    "explode = (0.1, 0.1, 0.1, 0.1, 0.1, 0.1, 0.1)  # explode 1st slice\n",
    "\n",
    "\n",
    "plt.pie(count_review_length, labels=labels,explode = explode, colors=colors,\n",
    "autopct='%1.1f%%', shadow=True, startangle=200)\n",
    "plt.axis('equal')\n",
    "plt.title(\"length percentage of review text\")\n",
    "plt.show()"
   ]
  },
  {
   "cell_type": "markdown",
   "metadata": {},
   "source": [
    "### Vote distribution versus rating"
   ]
  },
  {
   "cell_type": "code",
   "execution_count": 65,
   "metadata": {},
   "outputs": [
    {
     "data": {
      "text/plain": [
       "overall           float64\n",
       "verified             bool\n",
       "reviewTime         object\n",
       "reviewerID         object\n",
       "asin               object\n",
       "reviewerName       object\n",
       "reviewText         object\n",
       "summary            object\n",
       "unixReviewTime      int64\n",
       "vote                int64\n",
       "dtype: object"
      ]
     },
     "execution_count": 65,
     "metadata": {},
     "output_type": "execute_result"
    }
   ],
   "source": [
    "uniDf.dtypes"
   ]
  },
  {
   "cell_type": "code",
   "execution_count": 69,
   "metadata": {},
   "outputs": [
    {
     "data": {
      "text/plain": [
       "<matplotlib.axes._subplots.AxesSubplot at 0x124c2f8b0>"
      ]
     },
     "execution_count": 69,
     "metadata": {},
     "output_type": "execute_result"
    },
    {
     "data": {
      "image/png": "[encoded data removed]",
      "text/plain": [
       "<Figure size 360x360 with 1 Axes>"
      ]
     },
     "metadata": {
      "needs_background": "light"
     },
     "output_type": "display_data"
    }
   ],
   "source": [
    "fig, ax = plt.subplots(figsize=(5,5))\n",
    "plt.suptitle('')\n",
    "uniDf[uniDf['vote'] != 0].boxplot(column=['vote'], by='overall', ax=ax)"
   ]
  },
  {
   "cell_type": "code",
   "execution_count": 71,
   "metadata": {},
   "outputs": [
    {
     "data": {
      "text/plain": [
       "<matplotlib.axes._subplots.AxesSubplot at 0x11e5d83d0>"
      ]
     },
     "execution_count": 71,
     "metadata": {},
     "output_type": "execute_result"
    },
    {
     "data": {
      "image/png": "[encoded data removed]",
      "text/plain": [
       "<Figure size 432x288 with 1 Axes>"
      ]
     },
     "metadata": {
      "needs_background": "light"
     },
     "output_type": "display_data"
    }
   ],
   "source": [
    "sns.violinplot(data=uniDf[uniDf['vote'] != 0], x='overall', y='vote')"
   ]
  },
  {
   "cell_type": "markdown",
   "metadata": {},
   "source": [
    "### Extract and save each review and its rating"
   ]
  },
  {
   "cell_type": "code",
   "execution_count": 72,
   "metadata": {},
   "outputs": [],
   "source": [
    "uniDf.to_csv(path.strip('.json.gz') + '.csv', columns = ['reviewerID', 'asin', 'overall'], index=False)"
   ]
  },
  {
   "cell_type": "markdown",
   "metadata": {},
   "source": [
    "### Get a list of styles and save to JSON"
   ]
  },
  {
   "cell_type": "code",
   "execution_count": 73,
   "metadata": {},
   "outputs": [],
   "source": [
    "styles = defaultdict(set)\n",
    "for style in df['style'].values:\n",
    "    if type(style) != dict:\n",
    "        continue\n",
    "    for key in style:\n",
    "        styles[key.replace(':', '')].add(style[key])"
   ]
  },
  {
   "cell_type": "code",
   "execution_count": 74,
   "metadata": {},
   "outputs": [],
   "source": [
    "with open(path.strip('.json.gz')+'_styles.json', 'w') as fp:\n",
    "    data = {key:list(styles[key]) for key in styles}\n",
    "    json.dump(data, fp, sort_keys=True, indent=4)"
   ]
  },
  {
   "cell_type": "markdown",
   "metadata": {},
   "source": [
    "### Temporal Effects\n",
    "\n",
    "Trend of number of reviews and average ratings over months"
   ]
  },
  {
   "cell_type": "code",
   "execution_count": 75,
   "metadata": {},
   "outputs": [
    {
     "name": "stdout",
     "output_type": "stream",
     "text": [
      "Range of normalized months: 0 - 246\n"
     ]
    }
   ],
   "source": [
    "minMonth = uniDf['unixReviewTime'].min()//(30*24*60*60)\n",
    "\n",
    "def unixTimeToMonth(row):\n",
    "    return row['unixReviewTime']//(30*24*60*60) - minMonth\n",
    "\n",
    "uniDf['normalizedMonth'] = uniDf.apply(unixTimeToMonth, axis=1)\n",
    "\n",
    "print('Range of normalized months: {0} - {1}'.format(uniDf['normalizedMonth'].min(), uniDf['normalizedMonth'].max()))"
   ]
  },
  {
   "cell_type": "code",
   "execution_count": 76,
   "metadata": {},
   "outputs": [
    {
     "data": {
      "image/png": "[encoded data removed]",
      "text/plain": [
       "<Figure size 576x288 with 1 Axes>"
      ]
     },
     "metadata": {
      "needs_background": "light"
     },
     "output_type": "display_data"
    }
   ],
   "source": [
    "ax = uniDf.hist('normalizedMonth', bins=25, grid=False, figsize=(8,4), color='#86bf91', zorder=2, rwidth=0.9)\n",
    "for x in ax[0]:\n",
    "    x.set_title('Number of reviews versus months')\n",
    "    x.set_xlabel('Month normalized')\n",
    "    x.set_ylabel('Number of reviews')"
   ]
  },
  {
   "cell_type": "code",
   "execution_count": 77,
   "metadata": {},
   "outputs": [
    {
     "data": {
      "text/plain": [
       "Text(0.5, 1.0, 'Average rating versus months')"
      ]
     },
     "execution_count": 77,
     "metadata": {},
     "output_type": "execute_result"
    },
    {
     "data": {
      "image/png": "[encoded data removed]",
      "text/plain": [
       "<Figure size 576x288 with 1 Axes>"
      ]
     },
     "metadata": {
      "needs_background": "light"
     },
     "output_type": "display_data"
    }
   ],
   "source": [
    "avgRatings = uniDf.groupby('normalizedMonth').mean()['overall']\n",
    "ax = avgRatings.plot(figsize=(8,4))\n",
    "ax.set_ylabel('Average rating')\n",
    "ax.set_xlabel('Month normalized')\n",
    "ax.set_title('Average rating versus months')"
   ]
  },
  {
   "cell_type": "code",
   "execution_count": null,
   "metadata": {},
   "outputs": [],
   "source": []
  },
  {
   "cell_type": "code",
   "execution_count": null,
   "metadata": {},
   "outputs": [],
   "source": []
  }
 ],
 "metadata": {
  "kernelspec": {
   "display_name": "Python 3",
   "language": "python",
   "name": "python3"
  },
  "language_info": {
   "codemirror_mode": {
    "name": "ipython",
    "version": 3
   },
   "file_extension": ".py",
   "mimetype": "text/x-python",
   "name": "python",
   "nbconvert_exporter": "python",
   "pygments_lexer": "ipython3",
   "version": "3.8.0"
  }
 },
 "nbformat": 4,
 "nbformat_minor": 2
}
