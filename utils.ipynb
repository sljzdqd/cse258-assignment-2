{
 "cells": [
  {
   "cell_type": "markdown",
   "metadata": {},
   "source": [
    "### Load and Clean Data"
   ]
  },
  {
   "cell_type": "code",
   "execution_count": null,
   "metadata": {},
   "outputs": [],
   "source": [
    "import gzip\n",
    "import json\n",
    "import pandas as pd\n",
    "import matplotlib.pyplot as plt\n",
    "import numpy as np\n",
    "import math\n",
    "from collections import defaultdict\n",
    "from itertools import groupby\n",
    "import seaborn as sns\n",
    "\n",
    "def parse(path):\n",
    "    g = gzip.open(path, 'rb')\n",
    "    for l in g:\n",
    "        yield json.loads(l)\n",
    "\n",
    "\n",
    "def getDF(path):\n",
    "    i = 0\n",
    "    df = {}\n",
    "    for d in parse(path):\n",
    "        df[i] = d\n",
    "        i += 1\n",
    "    return pd.DataFrame.from_dict(df, orient='index')"
   ]
  },
  {
   "cell_type": "code",
   "execution_count": null,
   "metadata": {},
   "outputs": [],
   "source": [
    "path = 'data/Office_Products_5.json.gz'\n",
    "df = getDF(path)"
   ]
  },
  {
   "cell_type": "code",
   "execution_count": null,
   "metadata": {
    "scrolled": true
   },
   "outputs": [],
   "source": [
    "df.shape"
   ]
  },
  {
   "cell_type": "code",
   "execution_count": null,
   "metadata": {
    "scrolled": true
   },
   "outputs": [],
   "source": [
    "df[:3]"
   ]
  },
  {
   "cell_type": "markdown",
   "metadata": {},
   "source": [
    "At the moment, we aren't using **'image'** and **'style'**"
   ]
  },
  {
   "cell_type": "code",
   "execution_count": null,
   "metadata": {},
   "outputs": [],
   "source": [
    "df = df.drop('image', 1)\n",
    "df['vote'].fillna(0, inplace=True)"
   ]
  },
  {
   "cell_type": "code",
   "execution_count": null,
   "metadata": {},
   "outputs": [],
   "source": [
    "uniDf = df.drop('style', 1).drop_duplicates()\n",
    "uniDf.shape"
   ]
  },
  {
   "cell_type": "code",
   "execution_count": null,
   "metadata": {},
   "outputs": [],
   "source": [
    "uniDf.drop_duplicates(subset=['reviewerID', 'asin']).shape"
   ]
  },
  {
   "cell_type": "code",
   "execution_count": null,
   "metadata": {
    "scrolled": true
   },
   "outputs": [],
   "source": [
    "uniDf['vote'] = uniDf['vote'].apply(lambda v : str(v).replace(',', ''))\n",
    "uniDf['vote'] = pd.to_numeric(uniDf['vote'])\n",
    "uniDf['reviewText'].fillna('', inplace=True)"
   ]
  },
  {
   "cell_type": "code",
   "execution_count": null,
   "metadata": {},
   "outputs": [],
   "source": [
    "uniDf.reset_index(drop=True)\n",
    "uniDf = uniDf[uniDf['reviewText'].apply(lambda x: len(x) <= 1000)]"
   ]
  },
  {
   "cell_type": "markdown",
   "metadata": {},
   "source": [
    "### Rating Historgram"
   ]
  },
  {
   "cell_type": "code",
   "execution_count": null,
   "metadata": {},
   "outputs": [],
   "source": [
    "ratings = list(uniDf['overall'])\n",
    "votes = list(uniDf['vote'])\n",
    "items = list(uniDf['asin'])\n",
    "verified = list(uniDf['verified'])\n",
    "reviews = list(uniDf['reviewText'])\n",
    "\n",
    "count_r = [0] * 6\n",
    "count_verified = [0] * 6\n",
    "count_non_verified = [0] * 6\n",
    "r_items = defaultdict(list)\n",
    "count_r_items = [0] * 6\n",
    "count_review_length = [0] * 7"
   ]
  },
  {
   "cell_type": "code",
   "execution_count": null,
   "metadata": {},
   "outputs": [],
   "source": [
    "item_rating = []\n",
    "for i in range(len(ratings)):\n",
    "    r_items[items[i]].append(ratings[i])\n",
    "for item in r_items:\n",
    "    counts = np.bincount(r_items[item])\n",
    "    count = np.argmax(counts)\n",
    "    count_r_items[count] += 1\n",
    "count_r_items = count_r_items[1:]"
   ]
  },
  {
   "cell_type": "code",
   "execution_count": null,
   "metadata": {},
   "outputs": [],
   "source": [
    "zero_votes = []\n",
    "non_zero_votes = []\n",
    "verified_rating = []\n",
    "non_verified_rating = []\n",
    "review_length = []\n",
    "\n",
    "for i in range(len(ratings)):\n",
    "    if verified[i] == True:\n",
    "        count_verified[int(ratings[i])] += 1\n",
    "        verified_rating.append(ratings[i])\n",
    "    else :\n",
    "        count_non_verified[int(ratings[i])] += 1\n",
    "        non_verified_rating.append(ratings[i])\n",
    "    count_r[int(ratings[i])] += 1\n",
    "    review_length.append(len(str(reviews[i])))"
   ]
  },
  {
   "cell_type": "code",
   "execution_count": null,
   "metadata": {},
   "outputs": [],
   "source": [
    "max_len = 0\n",
    "for review in reviews:\n",
    "    if type(review) == float:\n",
    "        print(review)\n",
    "    if len(review) > max_len:\n",
    "        max_len = len(review)\n",
    "max_len = max_len/7"
   ]
  },
  {
   "cell_type": "code",
   "execution_count": null,
   "metadata": {},
   "outputs": [],
   "source": [
    "i = 0\n",
    "for k, g in groupby(sorted(review_length), key=lambda x: x//max_len):\n",
    "    count_review_length[i] = len(list(g))\n",
    "    i += 1\n",
    "print(count_review_length)"
   ]
  },
  {
   "cell_type": "code",
   "execution_count": null,
   "metadata": {},
   "outputs": [],
   "source": [
    "print(count_r)\n",
    "print(count_verified)\n",
    "print(count_non_verified)\n",
    "#print(review_length)"
   ]
  },
  {
   "cell_type": "code",
   "execution_count": null,
   "metadata": {},
   "outputs": [],
   "source": [
    "n,bins,patches = plt.hist(ratings,50, facecolor='blue')\n",
    "plt.xlim([0,6])\n",
    "plt.xlabel(\"rating score\")\n",
    "plt.ylabel(\"number of reviews\")\n",
    "plt.title(\"rating histogram of all reviews \")\n",
    "plt.xticks(np.arange(0,6,1))\n",
    "plt.savefig('rating_histogram')\n",
    "plt.show()"
   ]
  },
  {
   "cell_type": "code",
   "execution_count": null,
   "metadata": {},
   "outputs": [],
   "source": [
    "n,bins,patches = plt.hist(verified_rating,50, facecolor='blue')\n",
    "plt.xlim([0,6])\n",
    "plt.xlabel(\"rating score\")\n",
    "plt.ylabel(\"number of reviews\")\n",
    "plt.title(\"rating histogram of reviews, verified \")\n",
    "plt.xticks(np.arange(0,6,1))\n",
    "plt.savefig('verified_rating_histogram')\n",
    "plt.show()"
   ]
  },
  {
   "cell_type": "code",
   "execution_count": null,
   "metadata": {},
   "outputs": [],
   "source": [
    "n,bins,patches = plt.hist(non_verified_rating,50, facecolor='blue')\n",
    "plt.xlim([0,6])\n",
    "plt.xlabel(\"rating score\")\n",
    "plt.ylabel(\"number of reviews\")\n",
    "plt.title(\"rating histogram of reviews, none_verified \")\n",
    "plt.xticks(np.arange(0,6,1))\n",
    "plt.savefig('none_verified rating_histogram')\n",
    "plt.show()"
   ]
  },
  {
   "cell_type": "markdown",
   "metadata": {},
   "source": [
    "### Rating Percentage by Items"
   ]
  },
  {
   "cell_type": "code",
   "execution_count": null,
   "metadata": {},
   "outputs": [],
   "source": [
    "labels = ['1', '2', '3','4','5']\n",
    "colors = ['gold', 'yellowgreen', 'lightcoral', 'orange','lightskyblue']\n",
    "explode = (0.1, 0.1, 0.1, 0.1, 0.5)  # explode 1st slice\n",
    "\n",
    "\n",
    "fig = plt.figure(figsize=[6, 6])\n",
    "ax = fig.add_subplot(111)\n",
    "ax.pie(count_r_items, labels=labels,explode = explode, colors=colors,\n",
    "autopct='%1.1f%%', shadow=True, startangle=140)\n",
    "ax.set_title(\"rating percentage of items\")"
   ]
  },
  {
   "cell_type": "markdown",
   "metadata": {},
   "source": [
    "### Review Length Distribution"
   ]
  },
  {
   "cell_type": "code",
   "execution_count": null,
   "metadata": {},
   "outputs": [],
   "source": [
    "uniDf['reviewTextLength'] = uniDf['reviewText'].apply(lambda rt : len(rt))\n",
    "uniDf .groupby('overall').reviewTextLength.hist(range=[0, 1000], bins=5)"
   ]
  },
  {
   "cell_type": "code",
   "execution_count": null,
   "metadata": {},
   "outputs": [],
   "source": [
    "max_len = int(max_len)\n",
    "labels = ['0-'+str(max_len), str(max_len)+'-'+str(max_len*2), str(max_len*2)+'-'+str(max_len*3),str(max_len*3)+'-'+str(max_len*4),str(max_len*4)+'-'+str(max_len*5), str(max_len*5)+'-'+str(max_len*6), str(max_len*6)+'-'+str(max_len*7)]\n",
    "colors = ['gold', 'yellowgreen', 'lightcoral', 'orange','lightskyblue']\n",
    "explode = (0.1, 0.1, 0.1, 0.1, 0.1, 0.1, 0.1)  # explode 1st slice\n",
    "\n",
    "fig = plt.figure(figsize=[6, 6])\n",
    "ax = fig.add_subplot(111)\n",
    "ax.pie(count_review_length, labels=labels,explode = explode, colors=colors,\n",
    "autopct='%1.1f%%', shadow=True, startangle=200)\n",
    "ax.set_title(\"review length\")"
   ]
  },
  {
   "cell_type": "markdown",
   "metadata": {},
   "source": [
    "### Ratings vs Length of review"
   ]
  },
  {
   "cell_type": "code",
   "execution_count": null,
   "metadata": {},
   "outputs": [],
   "source": [
    "rating1 = {}\n",
    "for i in np.random.randint(0,50000,size = 500):\n",
    "    length = len(uniDf.iloc[i]['reviewText'])\n",
    "    if rating1.get(length):\n",
    "        rating1[length].append(uniDf.iloc[i]['overall'])\n",
    "    else:\n",
    "        rating1[length] = [uniDf.iloc[i]['overall']]\n",
    "averages = {}\n",
    "for key, values in rating1.items(): \n",
    "    averages[key] = float(sum([int(i) for i in values]))/len(values)"
   ]
  },
  {
   "cell_type": "code",
   "execution_count": null,
   "metadata": {},
   "outputs": [],
   "source": [
    "rating1 = {}\n",
    "for i in np.random.randint(0,50000,size = 500):\n",
    "    length = len(uniDf.iloc[i]['reviewText'])\n",
    "    if rating1.get(length):\n",
    "        rating1[length].append(uniDf.iloc[i]['overall'])\n",
    "    else:\n",
    "        rating1[length] = [uniDf.iloc[i]['overall']]"
   ]
  },
  {
   "cell_type": "code",
   "execution_count": null,
   "metadata": {},
   "outputs": [],
   "source": [
    "def sort_by_value(d): \n",
    "    items=d.items() \n",
    "    backitems=[[v[0],v[1]] for v in items] \n",
    "    backitems.sort() \n",
    "    return [ backitems[i] for i in range(0,len(backitems))] \n",
    "\n",
    "averages1 = sort_by_value(averages)"
   ]
  },
  {
   "cell_type": "code",
   "execution_count": null,
   "metadata": {},
   "outputs": [],
   "source": [
    "rating = []\n",
    "length = []\n",
    "for d in averages1: \n",
    "    length.append(d[0])\n",
    "    rating.append(d[1])\n",
    "\n",
    "plt.style.use('ggplot')\n",
    "plt.figure(figsize = (12, 6)) \n",
    "plt.title('Ratings vs Length of review')\n",
    "plt.xlabel('Length of review')\n",
    "plt.ylabel('Rating')\n",
    "plt.scatter(length,rating)\n",
    "plt.show()"
   ]
  },
  {
   "cell_type": "code",
   "execution_count": null,
   "metadata": {},
   "outputs": [],
   "source": [
    "lenAll = list(uniDf['reviewTextLength'])\n",
    "count = np.array([[0]*3]*6)\n",
    "\n",
    "for i in range(len(ratings)):\n",
    "    if lenAll[i] <= 333:\n",
    "        count[int(ratings[i])][0] += 1\n",
    "    elif lenAll[i] <= 666:\n",
    "        count[int(ratings[i])][1] += 1\n",
    "    else:\n",
    "            count[int(ratings[i])][2] += 1      \n",
    "count = count[1:]  "
   ]
  },
  {
   "cell_type": "code",
   "execution_count": null,
   "metadata": {},
   "outputs": [],
   "source": [
    "df = pd.DataFrame(count, index=['1','2','3','4','5'], columns=['0_333', '333_666','666_1000'])\n",
    "df.plot.bar(stacked=True)\n",
    "plt.title('Ratings vs Count of long/medium/short of review')\n",
    "plt.show()"
   ]
  },
  {
   "cell_type": "markdown",
   "metadata": {},
   "source": [
    "### Vote Distribution on Rating"
   ]
  },
  {
   "cell_type": "code",
   "execution_count": null,
   "metadata": {},
   "outputs": [],
   "source": []
  },
  {
   "cell_type": "code",
   "execution_count": null,
   "metadata": {},
   "outputs": [],
   "source": [
    "uniDf.dtypes"
   ]
  },
  {
   "cell_type": "code",
   "execution_count": null,
   "metadata": {},
   "outputs": [],
   "source": [
    "fig, ax = plt.subplots(figsize=(5,5))\n",
    "plt.suptitle('')\n",
    "uniDf[uniDf['vote'] != 0].boxplot(column=['vote'], by='overall', ax=ax)"
   ]
  },
  {
   "cell_type": "code",
   "execution_count": null,
   "metadata": {},
   "outputs": [],
   "source": [
    "sns.violinplot(data=uniDf[uniDf['vote'] != 0], x='overall', y='vote')"
   ]
  },
  {
   "cell_type": "markdown",
   "metadata": {},
   "source": [
    "### Extract and save each review and its rating"
   ]
  },
  {
   "cell_type": "code",
   "execution_count": null,
   "metadata": {},
   "outputs": [],
   "source": [
    "uniDf.to_csv(path.strip('.json.gz') + '.csv', columns = ['reviewerID', 'asin', 'overall'], index=False)"
   ]
  },
  {
   "cell_type": "markdown",
   "metadata": {},
   "source": [
    "### Obtain Styles and Save to JSON"
   ]
  },
  {
   "cell_type": "code",
   "execution_count": null,
   "metadata": {},
   "outputs": [],
   "source": [
    "styles = defaultdict(set)\n",
    "for style in df['style'].values:\n",
    "    if type(style) != dict:\n",
    "        continue\n",
    "    for key in style:\n",
    "        styles[key.replace(':', '')].add(style[key])"
   ]
  },
  {
   "cell_type": "code",
   "execution_count": null,
   "metadata": {},
   "outputs": [],
   "source": [
    "with open(path.strip('.json.gz')+'_styles.json', 'w') as fp:\n",
    "    data = {key:list(styles[key]) for key in styles}\n",
    "    json.dump(data, fp, sort_keys=True, indent=4)"
   ]
  },
  {
   "cell_type": "markdown",
   "metadata": {},
   "source": [
    "### Temporal Effects\n",
    "\n",
    "Trend of number of reviews and average ratings over months"
   ]
  },
  {
   "cell_type": "code",
   "execution_count": null,
   "metadata": {},
   "outputs": [],
   "source": [
    "minMonth = uniDf['unixReviewTime'].min()//(30*24*60*60)\n",
    "\n",
    "def unixTimeToMonth(row):\n",
    "    return row['unixReviewTime']//(30*24*60*60) - minMonth\n",
    "\n",
    "uniDf['normalizedMonth'] = uniDf.apply(unixTimeToMonth, axis=1)\n",
    "\n",
    "print('Range of normalized months: {0} - {1}'.format(uniDf['normalizedMonth'].min(), uniDf['normalizedMonth'].max()))"
   ]
  },
  {
   "cell_type": "code",
   "execution_count": null,
   "metadata": {},
   "outputs": [],
   "source": [
    "ax = uniDf.hist('normalizedMonth', bins=25, grid=False, figsize=(8,4), color='#86bf91', zorder=2, rwidth=0.9)\n",
    "for x in ax[0]:\n",
    "    x.set_title('Number of reviews versus months')\n",
    "    x.set_xlabel('Month normalized')\n",
    "    x.set_ylabel('Number of reviews')"
   ]
  },
  {
   "cell_type": "code",
   "execution_count": null,
   "metadata": {},
   "outputs": [],
   "source": [
    "avgRatings = uniDf.groupby('normalizedMonth').mean()['overall']\n",
    "ax = avgRatings.plot(figsize=(8,4))\n",
    "ax.set_ylabel('Average rating')\n",
    "ax.set_xlabel('Month normalized')\n",
    "ax.set_title('Average rating versus months')"
   ]
  },
  {
   "cell_type": "markdown",
   "metadata": {},
   "source": [
    "### Prepare Text for Sentimental Analysis\n",
    "\n",
    "E.g.\n",
    "Given fn.json with rating from 1 to 3,\n",
    "generate fn_1.txt, fn_2.txt, fn_3.txt"
   ]
  },
  {
   "cell_type": "code",
   "execution_count": null,
   "metadata": {},
   "outputs": [],
   "source": [
    "import re\n",
    "import string\n",
    "import nltk\n",
    "\n",
    "stemmer = nltk.stem.porter.PorterStemmer()\n",
    "stopwords = nltk.corpus.stopwords.words('english')\n",
    "\n",
    "\"\"\" Cleaning Options\n",
    "--rm_punc:             remove punctuations\n",
    "--lower:               lower case\n",
    "--stemm:               stemming\n",
    "--rm_stop:             remove stop words\n",
    "\n",
    "Modify these options in extract_review_text()!\n",
    "\"\"\"\n",
    "def clean_str(s,\n",
    "             rm_punc=False,\n",
    "             lower=True,\n",
    "             stem=False,\n",
    "             rm_stop=False):\n",
    "    \n",
    "    # Yoon Kim CNN preprocess\n",
    "    s = s.replace('\\n', ' ')\n",
    "    s = re.sub(r\"[^A-Za-z0-9(),!?\\'\\`]\", \" \", s)\n",
    "    s = re.sub(r\"\\'s\", \" \\'s\",                s)\n",
    "    s = re.sub(r\"\\'ve\", \" \\'ve\",              s)\n",
    "    s = re.sub(r\"n\\'t\", \" n\\'t\",              s)\n",
    "    s = re.sub(r\"\\'re\", \" \\'re\",              s)\n",
    "    s = re.sub(r\"\\'d\", \" \\'d\",                s)\n",
    "    s = re.sub(r\"\\'ll\", \" \\'ll\",              s)\n",
    "    s = re.sub(r\",\", \" , \",                   s)\n",
    "    s = re.sub(r\"!\", \" ! \",                   s)\n",
    "    s = re.sub(r\"\\(\", \" \\( \",                 s)\n",
    "    s = re.sub(r\"\\)\", \" \\) \",                 s)\n",
    "    s = re.sub(r\"\\?\", \" \\? \",                 s)\n",
    "    s = re.sub(r\"\\s{2,}\", \" \",                s)\n",
    "    \n",
    "    # No punctuations\n",
    "    if rm_punc:\n",
    "        s = s.translate(None, string.punctuation)\n",
    "    \n",
    "    # Perform stemming / Remvoe stop words\n",
    "    if stem or rm_stop:\n",
    "        s_clean = []\n",
    "        for w in s.split():\n",
    "            if rm_stop and w in stopwords: continue\n",
    "            s_clean.append(stemmer.stem(w) if stem else w)\n",
    "        s = ' '.join(s_clean)\n",
    "\n",
    "    return s.strip().lower() if lower else s.strip()\n",
    "\n",
    "\n",
    "def extract_review_text(path, uniDf):\n",
    "    # [1.0, 2.0, 3.0, 4.0, 5.0]\n",
    "    rating_vals = set(uniDf['overall'].tolist())\n",
    "    print('Ratings are: {}'.format(rating_vals))\n",
    "\n",
    "    fps = {r: open('%s_%s.txt'%(path, str(r)), 'w') for r in rating_vals}\n",
    "    for r in rating_vals:\n",
    "        reviews = list(uniDf[uniDf['overall']==r]['reviewText'].values)\n",
    "        print('Extracting reviews for rating {}'.format(r))\n",
    "        for review in reviews:\n",
    "            fps[r].write(clean_str(review) + '\\n')\n",
    "\n",
    "    for r in fps:\n",
    "        fps[r].close()\n",
    "    \n",
    "    print('Finish extracting reviews!')"
   ]
  },
  {
   "cell_type": "code",
   "execution_count": null,
   "metadata": {},
   "outputs": [],
   "source": [
    "extract_review_text(path, uniDf)"
   ]
  }
 ],
 "metadata": {
  "kernelspec": {
   "display_name": "Python 3",
   "language": "python",
   "name": "python3"
  },
  "language_info": {
   "codemirror_mode": {
    "name": "ipython",
    "version": 3
   },
   "file_extension": ".py",
   "mimetype": "text/x-python",
   "name": "python",
   "nbconvert_exporter": "python",
   "pygments_lexer": "ipython3",
   "version": "3.7.4"
  }
 },
 "nbformat": 4,
 "nbformat_minor": 2
}
