{
 "cells": [
  {
   "cell_type": "markdown",
   "metadata": {},
   "source": [
    "### Build balanced data\n",
    "\n",
    "pos:neg = 1:1"
   ]
  },
  {
   "cell_type": "code",
   "execution_count": 1,
   "metadata": {},
   "outputs": [],
   "source": [
    "from collections import defaultdict\n",
    "train_data = defaultdict(list)\n",
    "dev_data = defaultdict(list)\n",
    "test_data = defaultdict(list)\n",
    "\n",
    "with open('train_data.tsv', 'r') as f:\n",
    "    for line in f:\n",
    "        sent, label = line.strip('\\n').split('\\t')\n",
    "        train_data[label].append(sent)\n",
    "with open('dev_data.tsv', 'r') as f:\n",
    "    for line in f:\n",
    "        sent, label = line.strip('\\n').split('\\t')\n",
    "        dev_data[label].append(sent)\n",
    "with open('test_data.tsv', 'r') as f:\n",
    "    for line in f:\n",
    "        sent, label = line.strip('\\n').split('\\t')\n",
    "        test_data[label].append(sent)"
   ]
  },
  {
   "cell_type": "code",
   "execution_count": 3,
   "metadata": {},
   "outputs": [],
   "source": [
    "len_neg_train = len(train_data['0'])\n",
    "train_data['1'] = train_data['1'][:len_neg_train]\n",
    "\n",
    "len_neg_dev = len(dev_data['0'])\n",
    "dev_data['1'] = dev_data['1'][:len_neg_dev]\n",
    "\n",
    "len_neg_test = len(test_data['0'])\n",
    "test_data['1'] = test_data['1'][:len_neg_test]"
   ]
  },
  {
   "cell_type": "code",
   "execution_count": 5,
   "metadata": {},
   "outputs": [],
   "source": [
    "import random\n",
    "b_train_data = []\n",
    "for label, sents in train_data.items():\n",
    "    for s in sents:\n",
    "        b_train_data.append((s, label))\n",
    "random.shuffle(b_train_data)\n",
    "\n",
    "b_dev_data = []\n",
    "for label, sents in dev_data.items():\n",
    "    for s in sents:\n",
    "        b_dev_data.append((s, label))\n",
    "random.shuffle(b_dev_data)\n",
    "\n",
    "b_test_data = []\n",
    "for label, sents in test_data.items():\n",
    "    for s in sents:\n",
    "        b_test_data.append((s, label))\n",
    "random.shuffle(b_test_data)"
   ]
  },
  {
   "cell_type": "code",
   "execution_count": 6,
   "metadata": {},
   "outputs": [],
   "source": [
    "with open('balance_train.tsv', 'w') as f:\n",
    "    for d in b_train_data:\n",
    "        f.write(d[0] + '\\t' + d[1] + '\\n')\n",
    "        \n",
    "with open('balance_dev.tsv', 'w') as f:\n",
    "    for d in b_dev_data:\n",
    "        f.write(d[0] + '\\t' + d[1] + '\\n')\n",
    "        \n",
    "with open('balance_test.tsv', 'w') as f:\n",
    "    for d in b_test_data:\n",
    "        f.write(d[0] + '\\t' + d[1] + '\\n')"
   ]
  },
  {
   "cell_type": "code",
   "execution_count": 7,
   "metadata": {},
   "outputs": [
    {
     "name": "stdout",
     "output_type": "stream",
     "text": [
      "129310\n",
      "27502\n",
      "27600\n"
     ]
    }
   ],
   "source": [
    "print(len(b_train_data))\n",
    "print(len(b_dev_data))\n",
    "print(len(b_test_data))"
   ]
  },
  {
   "cell_type": "markdown",
   "metadata": {},
   "source": [
    "### Fit logistic regression model"
   ]
  },
  {
   "cell_type": "code",
   "execution_count": 8,
   "metadata": {},
   "outputs": [],
   "source": [
    "from sklearn.feature_extraction.text import CountVectorizer\n",
    "\n",
    "corpus = []\n",
    "labels = []\n",
    "with open('balance_train.tsv', 'r') as f:\n",
    "    for line in f:\n",
    "        sent, label = line.strip('\\n').split('\\t')\n",
    "        corpus.append(sent)\n",
    "        labels.append(int(label))\n",
    "        \n",
    "test_corpus = []\n",
    "test_labels = []\n",
    "with open('balance_test.tsv', 'r') as f:\n",
    "    for line in f:\n",
    "        sent, label = line.strip('\\n').split('\\t')\n",
    "        test_corpus.append(sent)\n",
    "        test_labels.append(int(label))"
   ]
  },
  {
   "cell_type": "code",
   "execution_count": 9,
   "metadata": {},
   "outputs": [],
   "source": [
    "vectorizer = CountVectorizer()\n",
    "X = vectorizer.fit_transform(corpus+test_corpus)"
   ]
  },
  {
   "cell_type": "code",
   "execution_count": 10,
   "metadata": {},
   "outputs": [],
   "source": [
    "train_X = X[:len(corpus)]\n",
    "test_X = X[len(corpus):]"
   ]
  },
  {
   "cell_type": "code",
   "execution_count": 11,
   "metadata": {},
   "outputs": [
    {
     "name": "stderr",
     "output_type": "stream",
     "text": [
      "/usr/local/lib/python3.7/site-packages/sklearn/linear_model/logistic.py:432: FutureWarning: Default solver will be changed to 'lbfgs' in 0.22. Specify a solver to silence this warning.\n",
      "  FutureWarning)\n"
     ]
    }
   ],
   "source": [
    "from sklearn.linear_model import LogisticRegression\n",
    "\n",
    "clf = LogisticRegression().fit(train_X, labels)"
   ]
  },
  {
   "cell_type": "code",
   "execution_count": null,
   "metadata": {},
   "outputs": [],
   "source": [
    "pred = clf.predict(test_X)"
   ]
  }
 ],
 "metadata": {
  "kernelspec": {
   "display_name": "Python 3",
   "language": "python",
   "name": "python3"
  },
  "language_info": {
   "codemirror_mode": {
    "name": "ipython",
    "version": 3
   },
   "file_extension": ".py",
   "mimetype": "text/x-python",
   "name": "python",
   "nbconvert_exporter": "python",
   "pygments_lexer": "ipython3",
   "version": "3.7.4"
  }
 },
 "nbformat": 4,
 "nbformat_minor": 2
}
