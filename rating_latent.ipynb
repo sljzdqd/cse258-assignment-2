{
 "cells": [
  {
   "cell_type": "code",
   "execution_count": 95,
   "metadata": {},
   "outputs": [],
   "source": [
    "import pandas as pd                         \n",
    "from collections import defaultdict\n",
    "import scipy\n",
    "import scipy.optimize\n",
    "import numpy\n",
    "import random"
   ]
  },
  {
   "cell_type": "code",
   "execution_count": 96,
   "metadata": {},
   "outputs": [],
   "source": [
    "df = pd.read_csv(\"data/Office_Products_5.csv\")             \n",
    "data = df.to_numpy()"
   ]
  },
  {
   "cell_type": "code",
   "execution_count": 97,
   "metadata": {},
   "outputs": [],
   "source": [
    "data = data[int(0.85*len(data)):]   #test data "
   ]
  },
  {
   "cell_type": "code",
   "execution_count": 102,
   "metadata": {},
   "outputs": [],
   "source": [
    "tr4 = []\n",
    "tr5 = []\n",
    "tr_other = []\n",
    "for d in data:\n",
    "    if d[2] == 4:\n",
    "        tr4.append(d)\n",
    "    elif d[2] == 5:\n",
    "        tr5.append(d)\n",
    "    else:\n",
    "        tr_other.append(d)\n",
    "data = tr_other + tr4[:10000] + tr5[:10000]\n",
    "random.shuffle(data)"
   ]
  },
  {
   "cell_type": "code",
   "execution_count": 103,
   "metadata": {},
   "outputs": [],
   "source": [
    "reviewsPerUser = defaultdict(list)\n",
    "reviewsPerItem = defaultdict(list)\n",
    "for d in data:\n",
    "    user,item = d[0], d[1]\n",
    "    reviewsPerUser[user].append(d)\n",
    "    reviewsPerItem[item].append(d)"
   ]
  },
  {
   "cell_type": "markdown",
   "metadata": {},
   "source": [
    "## Simple (bias only) latent factor-based recommender"
   ]
  },
  {
   "cell_type": "code",
   "execution_count": 104,
   "metadata": {},
   "outputs": [],
   "source": [
    "N = len(data)\n",
    "nUsers = len(reviewsPerUser)\n",
    "nItems = len(reviewsPerItem)\n",
    "users = list(reviewsPerUser.keys())\n",
    "items = list(reviewsPerItem.keys())\n",
    "alpha = sum([d[2] for d in data]) / len(data)\n",
    "labels = [d[2] for d in data]"
   ]
  },
  {
   "cell_type": "code",
   "execution_count": 105,
   "metadata": {},
   "outputs": [],
   "source": [
    "userBiases = defaultdict(float)\n",
    "itemBiases = defaultdict(float)"
   ]
  },
  {
   "cell_type": "code",
   "execution_count": 106,
   "metadata": {},
   "outputs": [],
   "source": [
    "def MSE(predictions, labels):\n",
    "    differences = [(x-y)**2 for x,y in zip(predictions,labels)]\n",
    "    return sum(differences) / len(differences)"
   ]
  },
  {
   "cell_type": "code",
   "execution_count": 107,
   "metadata": {},
   "outputs": [],
   "source": [
    "def prediction(user, item):\n",
    "    return alpha + userBiases[user] + itemBiases[item]"
   ]
  },
  {
   "cell_type": "code",
   "execution_count": 108,
   "metadata": {},
   "outputs": [],
   "source": [
    "def unpack(theta):\n",
    "    global alpha\n",
    "    global userBiases\n",
    "    global itemBiases\n",
    "    alpha = theta[0]\n",
    "    userBiases = dict(zip(users, theta[1:nUsers+1]))\n",
    "    itemBiases = dict(zip(items, theta[1+nUsers:]))\n"
   ]
  },
  {
   "cell_type": "code",
   "execution_count": 109,
   "metadata": {},
   "outputs": [],
   "source": [
    "def cost(theta, labels, lamb):\n",
    "    unpack(theta)\n",
    "    predictions = [prediction(d[0], d[1]) for d in data]\n",
    "    cost = MSE(predictions, labels)\n",
    "    print(\"MSE = \" + str(cost))\n",
    "    for u in userBiases:\n",
    "        cost += lamb*userBiases[u]**2\n",
    "    for i in itemBiases:\n",
    "        cost += lamb*itemBiases[i]**2\n",
    "    return cost"
   ]
  },
  {
   "cell_type": "code",
   "execution_count": 110,
   "metadata": {},
   "outputs": [],
   "source": [
    "def derivative(theta, labels, lamb):\n",
    "    unpack(theta)\n",
    "    N = len(data)\n",
    "    dalpha = 0\n",
    "    dUserBiases = defaultdict(float)\n",
    "    dItemBiases = defaultdict(float)\n",
    "    for d in data:\n",
    "        u,i = d[0], d[1]\n",
    "        pred = prediction(u, i)\n",
    "        diff = pred - d[2]\n",
    "        dalpha += 2/N*diff\n",
    "        dUserBiases[u] += 2/N*diff\n",
    "        dItemBiases[i] += 2/N*diff\n",
    "    for u in userBiases:\n",
    "        dUserBiases[u] += 2*lamb*userBiases[u]\n",
    "    for i in itemBiases:\n",
    "        dItemBiases[i] += 2*lamb*itemBiases[i]\n",
    "    dtheta = [dalpha] + [dUserBiases[u] for u in users] + [dItemBiases[i] for i in items]\n",
    "    return numpy.array(dtheta)"
   ]
  },
  {
   "cell_type": "code",
   "execution_count": 111,
   "metadata": {},
   "outputs": [
    {
     "name": "stdout",
     "output_type": "stream",
     "text": [
      "MSE = 1.7930627363636462\n",
      "MSE = 1.7349223215284646\n",
      "MSE = 2.8043078245408615\n",
      "MSE = 1.6795845118472694\n",
      "MSE = 1.5497686449877441\n",
      "MSE = 1.5475017971749363\n",
      "MSE = 1.5390552507880895\n",
      "MSE = 1.4439219234602276\n",
      "MSE = 1.394225783119682\n",
      "MSE = 1.3564022816178827\n",
      "MSE = 1.3392963700596485\n",
      "MSE = 1.317684169980549\n",
      "MSE = 1.3042517158704727\n",
      "MSE = 1.3026225885281106\n",
      "MSE = 1.3068176757042658\n",
      "MSE = 1.3082436620334887\n",
      "MSE = 1.3086929797091735\n",
      "MSE = 1.2942679736134057\n",
      "MSE = 1.3030153039338257\n",
      "MSE = 1.298763286331498\n",
      "MSE = 1.2933768873843943\n",
      "MSE = 1.2923834189095926\n",
      "MSE = 1.2923129424992428\n",
      "MSE = 1.2681034276943923\n",
      "MSE = 1.2867813928433567\n",
      "MSE = 1.2898642401473837\n",
      "MSE = 1.291681075360293\n",
      "MSE = 1.2905765693943716\n",
      "MSE = 1.2911661154543488\n",
      "MSE = 1.290032050616978\n",
      "MSE = 1.2892082700428822\n",
      "MSE = 1.2885779673008948\n",
      "MSE = 1.2887383123039797\n",
      "MSE = 1.2889769333740826\n",
      "MSE = 1.2895425509427825\n",
      "MSE = 1.289868230942792\n",
      "MSE = 1.290326248940216\n",
      "MSE = 1.2891667568349836\n",
      "MSE = 1.2898566288695485\n",
      "MSE = 1.2893411782978146\n",
      "MSE = 1.289362262899951\n",
      "MSE = 1.2893012187956767\n",
      "MSE = 1.2892893272850705\n",
      "MSE = 1.2892985741800471\n",
      "MSE = 1.289253362989357\n",
      "MSE = 1.2892689990841155\n",
      "MSE = 1.2892321872593484\n",
      "MSE = 1.2892098720987377\n",
      "MSE = 1.2892076918195632\n",
      "MSE = 1.2892474873902677\n",
      "MSE = 1.2892558041452813\n",
      "MSE = 1.2895268514448908\n",
      "MSE = 1.2892906371309345\n",
      "MSE = 1.2893269845680215\n",
      "MSE = 1.2893144476088898\n",
      "MSE = 1.2893218588043018\n",
      "MSE = 1.28931490387942\n"
     ]
    },
    {
     "data": {
      "text/plain": [
       "(array([ 3.31651145,  0.03931447,  0.12689249, ...,  0.01819081,\n",
       "        -0.06343828, -0.00841552]),\n",
       " 1.4641853485516134,\n",
       " {'grad': array([ 2.78783493e-05, -3.01187491e-08,  8.13465010e-08, ...,\n",
       "          6.57635202e-10,  7.30715632e-09, -1.22168613e-08]),\n",
       "  'task': b'CONVERGENCE: REL_REDUCTION_OF_F_<=_FACTR*EPSMCH',\n",
       "  'funcalls': 57,\n",
       "  'nit': 48,\n",
       "  'warnflag': 0})"
      ]
     },
     "execution_count": 111,
     "metadata": {},
     "output_type": "execute_result"
    }
   ],
   "source": [
    "scipy.optimize.fmin_l_bfgs_b(cost, [alpha] + [0.0]*(nUsers+nItems),\n",
    "                             derivative, args = (labels, 0.001))"
   ]
  },
  {
   "cell_type": "markdown",
   "metadata": {},
   "source": [
    "## Complete latent factor model "
   ]
  },
  {
   "cell_type": "code",
   "execution_count": 112,
   "metadata": {},
   "outputs": [],
   "source": [
    "alpha =  sum([d[2] for d in data]) / len(data)\n",
    "userBiases = defaultdict(float)\n",
    "itemBiases = defaultdict(float)\n",
    "userGamma = {}\n",
    "itemGamma = {}"
   ]
  },
  {
   "cell_type": "code",
   "execution_count": 113,
   "metadata": {},
   "outputs": [],
   "source": [
    "K = 2"
   ]
  },
  {
   "cell_type": "code",
   "execution_count": 114,
   "metadata": {},
   "outputs": [],
   "source": [
    "for u in reviewsPerUser:\n",
    "    userGamma[u] = [random.random() * 0.1 - 0.05 for k in range(K)]\n",
    "for i in reviewsPerItem:\n",
    "    itemGamma[i] = [random.random() * 0.1 - 0.05 for k in range(K)]"
   ]
  },
  {
   "cell_type": "code",
   "execution_count": 115,
   "metadata": {},
   "outputs": [],
   "source": [
    "def unpack(theta):   \n",
    "    global alpha\n",
    "    global userBiases\n",
    "    global itemBiases\n",
    "    global userGamma\n",
    "    global itemGamma\n",
    "    index = 0\n",
    "    alpha = theta[index]\n",
    "    index += 1\n",
    "    userBiases = dict(zip(users, theta[index:index+nUsers]))\n",
    "    index += nUsers\n",
    "    itemBiases = dict(zip(items, theta[index:index+nItems]))\n",
    "    index += nItems\n",
    "    for u in users:\n",
    "        userGamma[u] = theta[index:index+K]\n",
    "        index += K\n",
    "    for i in items:\n",
    "        itemGamma[i] = theta[index:index+K]\n",
    "        index += K"
   ]
  },
  {
   "cell_type": "code",
   "execution_count": 116,
   "metadata": {},
   "outputs": [],
   "source": [
    "def inner(x, y):\n",
    "    return sum([a*b for a,b in zip(x,y)])"
   ]
  },
  {
   "cell_type": "code",
   "execution_count": 117,
   "metadata": {},
   "outputs": [],
   "source": [
    "def prediction(user, item):\n",
    "    return alpha + userBiases[user] + itemBiases[item] + inner(userGamma[user], itemGamma[item])"
   ]
  },
  {
   "cell_type": "code",
   "execution_count": 118,
   "metadata": {},
   "outputs": [],
   "source": [
    "def cost(theta, labels, lamb):\n",
    "    unpack(theta)\n",
    "    predictions = [prediction(d[0], d[1]) for d in data]\n",
    "    cost = MSE(predictions, labels)\n",
    "    print(\"MSE = \" + str(cost))\n",
    "    for u in users:\n",
    "        cost += lamb*userBiases[u]**2\n",
    "        for k in range(K):\n",
    "            cost += lamb*userGamma[u][k]**2\n",
    "    for i in items:\n",
    "        cost += lamb*itemBiases[i]**2\n",
    "        for k in range(K):\n",
    "            cost += lamb*itemGamma[i][k]**2\n",
    "    return cost"
   ]
  },
  {
   "cell_type": "code",
   "execution_count": 119,
   "metadata": {},
   "outputs": [],
   "source": [
    "def derivative(theta, labels, lamb):\n",
    "    unpack(theta)\n",
    "    N = len(data)\n",
    "    dalpha = 0\n",
    "    dUserBiases = defaultdict(float)\n",
    "    dItemBiases = defaultdict(float)\n",
    "    dUserGamma = {}\n",
    "    dItemGamma = {}\n",
    "    for u in reviewsPerUser:\n",
    "        dUserGamma[u] = [0.0 for k in range(K)]\n",
    "    for i in reviewsPerItem:\n",
    "        dItemGamma[i] = [0.0 for k in range(K)]\n",
    "    for d in data:\n",
    "        u,i = d[0], d[1]\n",
    "        pred = prediction(u, i)\n",
    "        diff = pred - d[2]\n",
    "        dalpha += 2/N*diff\n",
    "        dUserBiases[u] += 2/N*diff\n",
    "        dItemBiases[i] += 2/N*diff\n",
    "        for k in range(K):\n",
    "            dUserGamma[u][k] += 2/N*itemGamma[i][k]*diff\n",
    "            dItemGamma[i][k] += 2/N*userGamma[u][k]*diff\n",
    "    for u in userBiases:\n",
    "        dUserBiases[u] += 2*lamb*userBiases[u]\n",
    "        for k in range(K):\n",
    "            dUserGamma[u][k] += 2*lamb*userGamma[u][k]\n",
    "    for i in itemBiases:\n",
    "        dItemBiases[i] += 2*lamb*itemBiases[i]\n",
    "        for k in range(K):\n",
    "            dItemGamma[i][k] += 2*lamb*itemGamma[i][k]\n",
    "    dtheta = [dalpha] + [dUserBiases[u] for u in users] + [dItemBiases[i] for i in items]\n",
    "    for u in users:\n",
    "        dtheta += dUserGamma[u]\n",
    "    for i in items:\n",
    "        dtheta += dItemGamma[i]\n",
    "    return numpy.array(dtheta)"
   ]
  },
  {
   "cell_type": "code",
   "execution_count": 120,
   "metadata": {},
   "outputs": [
    {
     "name": "stdout",
     "output_type": "stream",
     "text": [
      "MSE = 1.7930571430077034\n",
      "MSE = 1.7364792710173\n",
      "MSE = 2.957254259880826\n",
      "MSE = 1.680402728883922\n",
      "MSE = 1.546150641628824\n",
      "MSE = 1.5436958292693135\n",
      "MSE = 1.5346203890469674\n",
      "MSE = 1.4379653375559938\n",
      "MSE = 1.3859016810917637\n",
      "MSE = 1.347333912529546\n",
      "MSE = 1.3284358712248272\n",
      "MSE = 1.3073193934523057\n",
      "MSE = 1.2914025914799037\n",
      "MSE = 1.2858645925486962\n",
      "MSE = 1.2911830358409555\n",
      "MSE = 1.2927951195390375\n",
      "MSE = 1.2945195074301643\n",
      "MSE = 1.2861204287069032\n",
      "MSE = 1.28636510062141\n",
      "MSE = 1.2848532207337542\n",
      "MSE = 1.286828404565396\n",
      "MSE = 1.2869630263348386\n",
      "MSE = 1.287491163044251\n",
      "MSE = 1.2878688726083856\n",
      "MSE = 1.286479234741703\n",
      "MSE = 1.288922286201256\n",
      "MSE = 1.2838571772120904\n",
      "MSE = 1.2873797150097925\n",
      "MSE = 1.287426865457238\n",
      "MSE = 1.2878106102265485\n",
      "MSE = 1.2912491200561038\n",
      "MSE = 1.2885151252848364\n",
      "MSE = 1.2890452902623828\n",
      "MSE = 1.289348313798618\n",
      "MSE = 1.289449803778239\n",
      "MSE = 1.2892714317173612\n",
      "MSE = 1.2890892097628135\n",
      "MSE = 1.288690705736059\n",
      "MSE = 1.2885423052228755\n",
      "MSE = 1.2886899716951263\n",
      "MSE = 1.2887568452641829\n",
      "MSE = 1.2888930220616082\n",
      "MSE = 1.2892804324690004\n",
      "MSE = 1.289303946004027\n",
      "MSE = 1.2892849134038484\n",
      "MSE = 1.2893103749936283\n",
      "MSE = 1.2892497099977827\n",
      "MSE = 1.2891848756130238\n",
      "MSE = 1.2891119875030241\n",
      "MSE = 1.289114349304373\n",
      "MSE = 1.2891129554624496\n",
      "MSE = 1.2891221240148418\n",
      "MSE = 1.289176697012432\n",
      "MSE = 1.2894042614041479\n",
      "MSE = 1.2887522856904468\n",
      "MSE = 1.2893282250676386\n",
      "MSE = 1.2894877626104084\n",
      "MSE = 1.2893467048276617\n",
      "MSE = 1.2893536772831053\n",
      "MSE = 1.289359016322115\n",
      "MSE = 1.2893564576900494\n",
      "MSE = 1.289356992501427\n",
      "MSE = 1.2893529714042853\n",
      "MSE = 1.2893326259036866\n",
      "MSE = 1.2893253683084251\n",
      "MSE = 1.289321050633465\n",
      "MSE = 1.2893174621874324\n",
      "MSE = 1.2893170676866856\n",
      "MSE = 1.2893180434330394\n",
      "MSE = 1.289326172886929\n",
      "MSE = 1.2892995952440585\n",
      "MSE = 1.2893237757832452\n"
     ]
    },
    {
     "data": {
      "text/plain": [
       "(array([ 3.31649159e+00,  3.93308294e-02,  1.26860309e-01, ...,\n",
       "        -3.13177909e-06, -2.58409220e-06, -4.40286665e-06]),\n",
       " 1.46418533145119,\n",
       " {'grad': array([-1.40695690e-05,  6.58910615e-09,  6.99511556e-09, ...,\n",
       "         -5.94065657e-09, -5.20319882e-09, -8.77115841e-09]),\n",
       "  'task': b'CONVERGENCE: REL_REDUCTION_OF_F_<=_FACTR*EPSMCH',\n",
       "  'funcalls': 72,\n",
       "  'nit': 61,\n",
       "  'warnflag': 0})"
      ]
     },
     "execution_count": 120,
     "metadata": {},
     "output_type": "execute_result"
    }
   ],
   "source": [
    "scipy.optimize.fmin_l_bfgs_b(cost, [alpha] + # Initialize alpha\n",
    "                                   [0.0]*(nUsers+nItems) + # Initialize beta\n",
    "                                   [random.random() * 0.1 - 0.05 for k in range(K*(nUsers+nItems))], # Gamma\n",
    "                             derivative, args = (labels, 0.001))"
   ]
  },
  {
   "cell_type": "code",
   "execution_count": null,
   "metadata": {},
   "outputs": [],
   "source": []
  }
 ],
 "metadata": {
  "kernelspec": {
   "display_name": "Python 3",
   "language": "python",
   "name": "python3"
  },
  "language_info": {
   "codemirror_mode": {
    "name": "ipython",
    "version": 3
   },
   "file_extension": ".py",
   "mimetype": "text/x-python",
   "name": "python",
   "nbconvert_exporter": "python",
   "pygments_lexer": "ipython3",
   "version": "3.7.4"
  }
 },
 "nbformat": 4,
 "nbformat_minor": 2
}
